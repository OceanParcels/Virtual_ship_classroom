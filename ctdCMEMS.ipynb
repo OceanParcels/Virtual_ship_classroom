{
 "cells": [
  {
   "cell_type": "markdown",
   "metadata": {},
   "source": [
    "## Local ADCP Particle test with CMEMS data"
   ]
  },
  {
   "cell_type": "code",
   "execution_count": 1,
   "metadata": {},
   "outputs": [],
   "source": [
    "from datetime import timedelta\n",
    "import numpy as np\n",
    "import math\n",
    "\n",
    "from parcels import (\n",
    "    AdvectionRK4,\n",
    "    ErrorCode,\n",
    "    FieldSet,\n",
    "    JITParticle,\n",
    "    ScipyParticle,\n",
    "    ParticleSet,\n",
    "    Variable,\n",
    ")"
   ]
  },
  {
   "cell_type": "markdown",
   "metadata": {},
   "source": [
    "### Read sample input data"
   ]
  },
  {
   "cell_type": "code",
   "execution_count": 17,
   "metadata": {},
   "outputs": [
    {
     "name": "stdout",
     "output_type": "stream",
     "text": [
      "1\n",
      "5727\n"
     ]
    }
   ],
   "source": [
    "# Load the CMEMS data (3 days manually downloaded)\n",
    "example_dataset_folder = \"../Data\"\n",
    "filenames = {\n",
    "    \"U\": f\"{example_dataset_folder}/glo12_rg_1d-m_2021010*_3D-uovo_hcst_R20210113.nc\",\n",
    "    \"V\": f\"{example_dataset_folder}/glo12_rg_1d-m_2021010*_3D-uovo_hcst_R20210113.nc\",\n",
    "    \"S\": f\"{example_dataset_folder}/glo12_rg_1d-m_2021010*_3D-so_hcst_R20210113.nc\",\n",
    "    \"T\": f\"{example_dataset_folder}/glo12_rg_1d-m_2021010*_3D-thetao_hcst_R20210113.nc\",\n",
    "}\n",
    "variables = {'U': 'uo', 'V': 'vo', 'S':'so', 'T':'thetao'}\n",
    "dimensions = {'lon': 'longitude', 'lat': 'latitude', 'time': 'time', 'depth':'depth'}\n",
    "fieldset = FieldSet.from_netcdf(filenames, variables, dimensions, time_periodic=timedelta(days=3))\n",
    "fieldset.T.grid = fieldset.U.grid\n",
    "fieldset.T.interp_method = \"linear_invdist_land_tracer\"\n",
    "fieldset.S.grid = fieldset.U.grid\n",
    "fieldset.S.interp_method = \"linear_invdist_land_tracer\"\n",
    "\n",
    "# top and bottom layer in the hydrodynamic data\n",
    "fieldset.mindepth = math.ceil(fieldset.U.depth[0])\n",
    "print(fieldset.mindepth)\n",
    "fieldset.maxdepth = math.floor(fieldset.U.depth[-1])\n",
    "print(fieldset.maxdepth)\n",
    "\n",
    "# set initial location\n",
    "ini_lat = -31\n",
    "ini_lon = 32"
   ]
  },
  {
   "cell_type": "markdown",
   "metadata": {},
   "source": [
    "### Create particles and initalize"
   ]
  },
  {
   "cell_type": "code",
   "execution_count": 18,
   "metadata": {},
   "outputs": [],
   "source": [
    "# Create and initialize Variable particles to sample the ocean\n",
    "class SampleParticleInitZero(ScipyParticle):\n",
    "    \"\"\"Define a new particle class with Variables init Nan\"\"\" \n",
    "    salinity = Variable(\"salinity\", initial=np.nan)\n",
    "    temperature = Variable(\"temperature\", initial=np.nan)\n",
    "    U = Variable('U', dtype=np.float32, initial=np.nan)\n",
    "    V = Variable('V', dtype=np.float32, initial=np.nan)\n",
    "\n",
    "# define function sampling Salinity \n",
    "def SampleS(particle, fieldset, time):\n",
    "    particle.salinity = fieldset.S[time, particle.depth, particle.lat, particle.lon]\n",
    "\n",
    "# define function sampling Temperature \n",
    "def SampleT(particle, fieldset, time):\n",
    "    particle.temperature = fieldset.T[time, particle.depth, particle.lat, particle.lon]\n",
    "\n",
    "# define function sampling u and v as in https://docs.oceanparcels.org/en/latest/examples/tutorial_sampling.html\n",
    "def SampleVel_correct(particle, fieldset, time):\n",
    "    particle.U, particle.V = fieldset.UV[time, particle.depth, particle.lat, particle.lon, particle]\n",
    "\n",
    "# Attempt for CTD like particle \n",
    "depthnum = fieldset.maxdepth - fieldset.mindepth\n",
    "# Initiate ADCP like particle set \n",
    "pset = ParticleSet.from_list(\n",
    "    fieldset=fieldset, pclass=SampleParticleInitZero, lon=np.full(depthnum,ini_lon), lat=np.full(depthnum,ini_lat), depth=np.linspace(fieldset.mindepth, fieldset.maxdepth, num=depthnum)\n",
    ")\n",
    "Sample_S_kernel = pset.Kernel(SampleS)  # Casting the SampleS function to a kernel.\n",
    "Sample_T_kernel = pset.Kernel(SampleT)  # similar for temperature\n",
    "SampleVel_kernel = pset.Kernel(SampleVel_correct)  # Casting the function to a kernel.\n",
    "\n",
    "# only execute the sampling kernels to record the init values of the particles\n",
    "pset.execute(Sample_S_kernel, dt=0)\n",
    "pset.execute(Sample_T_kernel, dt=0)\n",
    "pset.execute(SampleVel_correct, dt=0)"
   ]
  },
  {
   "cell_type": "markdown",
   "metadata": {},
   "source": [
    "### Determine ship course and add as kernel "
   ]
  },
  {
   "cell_type": "code",
   "execution_count": 19,
   "metadata": {},
   "outputs": [],
   "source": [
    "# change advection to ship movement\n",
    "# Cruising speed Pelagia (and Anna Weber) is 9 knp https://www.nioz.nl/application/files/3614/9744/8746/Pelagia_Technical_specifications-2016.pdf\n",
    "# survey speed nog iets lager? Zoals bij https://schmidtocean.org/rv-falkor/ship-specifications/\n",
    "# 7 knp = 13 km/h = 3.6 m/s\n",
    "\n",
    "def ShipVel(particle, fieldset, time):\n",
    "    speed = 3.6\n",
    "    target_lat = -50\n",
    "    target_lon = 20\n",
    "    # determine ship direction\n",
    "    heading = math.sqrt((target_lat - particle.lat)**2 + (target_lon - particle.lon)**2)\n",
    "    # calculate e/w and n/s speed (m/s)\n",
    "    lat_add = (target_lat - particle.lat)/(heading/speed)\n",
    "    lon_add = (target_lon - particle.lon)/(heading/speed)\n",
    "    # convert to lat/lon\n",
    "    lat_add_deg = lat_add / 1.11e5\n",
    "    lon_add_deg = lon_add / (1.11e5 * math.cos(particle.lat * math.pi / 180))\n",
    "    # add to particle position\n",
    "    particle.lat += lat_add_deg * particle.dt\n",
    "    particle.lon += lon_add_deg * particle.dt\n",
    "\n",
    "# cast the ships velocity function to a kernel object\n",
    "ShipVel_kernel = pset.Kernel(ShipVel)"
   ]
  },
  {
   "cell_type": "markdown",
   "metadata": {},
   "source": [
    "### Run simulation"
   ]
  },
  {
   "cell_type": "code",
   "execution_count": 20,
   "metadata": {},
   "outputs": [
    {
     "name": "stderr",
     "output_type": "stream",
     "text": [
      "INFO: Output files are stored in CTDtest.zarr.\n",
      "100%|██████████| 86400.0/86400.0 [01:43<00:00, 837.13it/s] \n"
     ]
    }
   ],
   "source": [
    "# set output file name and dt\n",
    "output_file = pset.ParticleFile(\n",
    "    name=\"CTDtest.zarr\",  # the file name\n",
    "    outputdt=timedelta(hours=6),  # the time step of the outputs\n",
    ")\n",
    "\n",
    "# Choose which kernels to use\n",
    "kernels = ShipVel_kernel + Sample_S_kernel + Sample_T_kernel + SampleVel_kernel\n",
    "\n",
    "# Execute code and save to file \n",
    "pset.execute(\n",
    "    kernels, \n",
    "    runtime=timedelta(days=1),  # the total length of the run\n",
    "    dt=timedelta(minutes=60),  # the timestep of the kernel\n",
    "    output_file=output_file,\n",
    ")"
   ]
  },
  {
   "cell_type": "markdown",
   "metadata": {},
   "source": [
    "### Do some plotting to check output"
   ]
  },
  {
   "cell_type": "code",
   "execution_count": null,
   "metadata": {},
   "outputs": [],
   "source": [
    "import matplotlib.pyplot as plt\n",
    "import xarray as xr\n",
    "\n",
    "# Open output and read to x, y, z\n",
    "ds = xr.open_zarr(\"CTDtest.zarr\")\n",
    "x = ds[\"lon\"][:].values.flatten()\n",
    "y = ds[\"lat\"][:].values.flatten()\n",
    "z = ds[\"z\"][:].values.flatten()\n",
    "U = ds[\"U\"][:].values.flatten()\n",
    "V = ds[\"V\"][:].values.flatten()\n",
    "salinity = ds[\"salinity\"][:].values.flatten()\n",
    "temperature = ds[\"temperature\"][:].values.flatten()\n",
    "valid_particles = salinity>0\n",
    "ds.close()\n",
    "\n",
    "# Plot Particle depth\n",
    "fig = plt.figure(figsize=(15, 10))\n",
    "ax = plt.axes(projection=\"3d\")\n",
    "# cb = ax.scatter(x, y, z, c=salinity, s=20, marker=\"o\")\n",
    "cb = ax.scatter(x[valid_particles], y[valid_particles], z[valid_particles], c=salinity[valid_particles], s=20, marker=\"o\")\n",
    "ax.set_xlabel(\"Longitude\")\n",
    "ax.set_ylabel(\"Latitude\")\n",
    "ax.set_zlabel(\"Depth (m)\")\n",
    "ax.set_zlim(np.max(z), 0)\n",
    "fig.colorbar(cb, shrink=0.7)\n",
    "plt.show()"
   ]
  },
  {
   "cell_type": "code",
   "execution_count": null,
   "metadata": {},
   "outputs": [],
   "source": []
  }
 ],
 "metadata": {
  "kernelspec": {
   "display_name": "py3_parcels",
   "language": "python",
   "name": "python3"
  },
  "language_info": {
   "codemirror_mode": {
    "name": "ipython",
    "version": 3
   },
   "file_extension": ".py",
   "mimetype": "text/x-python",
   "name": "python",
   "nbconvert_exporter": "python",
   "pygments_lexer": "ipython3",
   "version": "3.11.4"
  },
  "orig_nbformat": 4
 },
 "nbformat": 4,
 "nbformat_minor": 2
}
