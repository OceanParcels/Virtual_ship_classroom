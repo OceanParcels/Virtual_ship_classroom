{
 "cells": [
  {
   "cell_type": "markdown",
   "metadata": {},
   "source": [
    "https://www.youtube.com/watch?v=G82kIgc1imk\n",
    "\n",
    "<iframe width=\"560\" height=\"315\" src=\"https://www.youtube.com/embed/G82kIgc1imk?si=d9skx8056TPrVV5R&amp;controls=0\" title=\"YouTube video player\" frameborder=\"0\" allow=\"accelerometer; autoplay; clipboard-write; encrypted-media; gyroscope; picture-in-picture; web-share\" allowfullscreen></iframe>\n",
    "\n",
    "### Time has come to start your expedition!\n",
    "Make sure your datafiles, the JSON file and this file are all in the same folder.\n",
    "\n",
    "It might take up to an hour to gather the data depending on your choices, make sure your computer doesn't fall asleep while running the cells/script below.\n",
    "\n",
    "Meanwhile you can read up on some of the safety procedures that you should be aware of onboard and browse for cruise reports if you want. "
   ]
  },
  {
   "cell_type": "code",
   "execution_count": null,
   "metadata": {},
   "outputs": [],
   "source": [
    "# Download the latest version of the virtual ship and the bathymetry file\n",
    "import requests \n",
    "\n",
    "files = {\n",
    "    \"GLO-MFC_001_024_mask_bathy.nc\":\"https://surfdrive.surf.nl/files/index.php/s/AdbtlgP3LJv6tOn/download\",\n",
    "    \"virtualship.py\":\"https://raw.githubusercontent.com/OceanParcels/Virtual_ship_classroom/main/virtualship.py\"}\n",
    "\n",
    "for filename, url in files.items():\n",
    "  response = requests.get(url, allow_redirects=True)\n",
    "\n",
    "  if response.status_code == 200:\n",
    "      with open(filename, \"wb\") as f:\n",
    "          f.write(response.content)\n",
    "  else:\n",
    "      print(\"Failed to download\", url)\n",
    "print('Download ready')"
   ]
  },
  {
   "cell_type": "code",
   "execution_count": null,
   "metadata": {},
   "outputs": [],
   "source": [
    "# Sail the virtual ship!\n",
    "%run virtualship.py"
   ]
  },
  {
   "cell_type": "markdown",
   "metadata": {},
   "source": [
    "### Emergency procedures\n",
    "\n",
    "Before going on any research expedition you need follow a one day Safety at Sea course and get a medical check-up.\n",
    "\n",
    "Of course this is not needed for your virtual fieldwork, but we like to draw for your attention to the following emergency procedures.\n",
    "\n",
    "**Safety Drills:** We conduct regular safety drills to ensure that everyone on board is well-prepared in case of an emergency. Specifically, fire and boat drills are held once a week. These drills are not just routine; they are essential survival training and should be taken seriously. To minimize disruption to the research program, science party members are usually notified in advance of the scheduled drills. In the event that you must continue working during a drill, prior arrangements can be made through the Chief Scientist.\n",
    "\n",
    "**Emergency Signal:** In the event of an emergency signal, your immediate action is crucial. Don life jackets, put on long-sleeved garments, and wear a hat or head covering if available. Then, proceed to the designated station indicated on the station card located next to your bunk.\n",
    "\n",
    "**On-Call Readiness:** Please keep in mind that while on board the ship, you may be called upon without warning to assist during your off-watch periods. Emergencies can happen at any time, and your readiness to respond promptly and efficiently is essential to the safety of all aboard.\n",
    "\n",
    "**Boat Drill (Abandon Ship):** The signal for abandon ship is seven or more short blasts followed by one long blast of the ship’s whistle and general alarm. When this signal is heard, report to your designated life raft station. There the Mate in charge will explain the procedures for launching and embarking into the life rafts. The rafts will not be launched during a drill.\n",
    "\n",
    "**Fire and Emergency Drills:** The signal is one long blast on the ship’s whistle and general alarm bell, lasting for ten seconds or more. During this drill, members of the science party muster in the designated area. Attendance will be taken and reported to the bridge.\n",
    "\n",
    "**Man Overboard:** If someone falls overboard, throw a life-ring into the water towards the person. Keep your eye on the person at all times and point towards the person. Shout “MAN OVERBOARD, STARBOARD (or PORT),” and call the bridge on the sound powered phone or squawk box to inform them without losing sight of the person if possible. If you hear someone hail \"Man Overboard,\" pass the word to the bridge."
   ]
  },
  {
   "cell_type": "markdown",
   "metadata": {},
   "source": [
    "### Official reporting\n",
    "After each scientific expedition a cruise reports needs to be written. \n",
    "You can find many cruise reports online, e.g. https://www.bodc.ac.uk/resources/inventories/cruise_inventory/reports/pe358.pdf\n",
    "\n",
    "In your case you the presentation on March 22nd will be sufficient."
   ]
  }
 ],
 "metadata": {
  "kernelspec": {
   "display_name": "parcels",
   "language": "python",
   "name": "python3"
  },
  "language_info": {
   "codemirror_mode": {
    "name": "ipython",
    "version": 3
   },
   "file_extension": ".py",
   "mimetype": "text/x-python",
   "name": "python",
   "nbconvert_exporter": "python",
   "pygments_lexer": "ipython3",
   "version": "3.1.0"
  }
 },
 "nbformat": 4,
 "nbformat_minor": 2
}
