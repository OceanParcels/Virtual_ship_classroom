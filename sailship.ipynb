{
 "cells": [
  {
   "cell_type": "markdown",
   "metadata": {},
   "source": [
    "## Combined ADCP and CTD particle test with CMEMS data"
   ]
  },
  {
   "cell_type": "code",
   "execution_count": 1,
   "metadata": {},
   "outputs": [],
   "source": [
    "from datetime import timedelta\n",
    "import numpy as np\n",
    "import pyproj\n",
    "\n",
    "from parcels import (\n",
    "    Field,\n",
    "    FieldSet,\n",
    "    JITParticle,\n",
    "    ParticleSet,\n",
    "    Variable,\n",
    ")"
   ]
  },
  {
   "cell_type": "markdown",
   "metadata": {},
   "source": [
    "### Read sample input data"
   ]
  },
  {
   "cell_type": "code",
   "execution_count": 2,
   "metadata": {},
   "outputs": [],
   "source": [
    "# Load the CMEMS data (3 days manually downloaded)\n",
    "dataset_folder = \"/nethome/0448257/Data\"\n",
    "filenames = {\n",
    "    \"U\": f\"{dataset_folder}/glo12_rg_1d-m_2021010*_3D-uovo_hcst_R20210113.nc\",\n",
    "    \"V\": f\"{dataset_folder}/glo12_rg_1d-m_2021010*_3D-uovo_hcst_R20210113.nc\",\n",
    "    \"S\": f\"{dataset_folder}/glo12_rg_1d-m_2021010*_3D-so_hcst_R20210113.nc\",\n",
    "    \"T\": f\"{dataset_folder}/glo12_rg_1d-m_2021010*_3D-thetao_hcst_R20210113.nc\"}\n",
    "variables = {'U': 'uo', 'V': 'vo', 'S':'so', 'T':'thetao'}\n",
    "dimensions = {'lon': 'longitude', 'lat': 'latitude', 'time': 'time', 'depth':'depth'}\n",
    "\n",
    "# create the fieldset and set interpolation methods\n",
    "fieldset = FieldSet.from_netcdf(filenames, variables, dimensions, time_periodic=timedelta(days=3))\n",
    "fieldset.T.interp_method = \"linear_invdist_land_tracer\"\n",
    "fieldset.S.interp_method = \"linear_invdist_land_tracer\"\n",
    "\n",
    "# add bathymetry data to the fieldset for CTD cast\n",
    "bathymetry_file = f\"{dataset_folder}/GLO-MFC_001_024_mask_bathy.nc\"\n",
    "bathymetry_variables = ('bathymetry', 'deptho')\n",
    "bathymetry_dimensions = {'lon': 'longitude', 'lat': 'latitude'}\n",
    "bathymetry_field = Field.from_netcdf(bathymetry_file, bathymetry_variables, bathymetry_dimensions)\n",
    "fieldset.add_field(bathymetry_field)\n",
    "fieldset.add_constant('z_start',0.5) #TODO\n",
    "fieldset.computeTimeChunk(0,1)\n",
    "\n",
    "# set initial location #TODO should be input to function or come from leafmap #TODO remove points outside domain\n",
    "coords = [[-94.394531, -4.390229], [-106.523437, -0.175781], [-124.541016, -6.053161], [-140.537109, -0.527336]]"
   ]
  },
  {
   "cell_type": "markdown",
   "metadata": {},
   "source": [
    "### Determine ship course as intermediate points between CTD stations"
   ]
  },
  {
   "cell_type": "code",
   "execution_count": 3,
   "metadata": {},
   "outputs": [],
   "source": [
    "# Initialize lists to store intermediate points\n",
    "sample_lons = []\n",
    "sample_lats = []\n",
    "\n",
    "# Loop over station coordinates and calculate intermediate points along great circle path\n",
    "i = 0\n",
    "for i in (range(len(coords)-1)):\n",
    "    startlong = coords[i][0]\n",
    "    startlat = coords[i][1]\n",
    "    endlong = coords[i+1][0]\n",
    "    endlat = coords[i+1][1]\n",
    "\n",
    "    # calculate line string along path with segments every TODO hour or 5 min = 3.6*60*5 = 1080 m, for now 5 midpoints\n",
    "    g = pyproj.Geod(ellps='WGS84')\n",
    "    # r = g.inv_intermediate(startlong, startlat, endlong, endlat, del_s = 1080)\n",
    "    r = g.inv_intermediate(startlong, startlat, endlong, endlat, initial_idx=0, return_back_azimuth=False, npts=5)\n",
    "    # store all intermediate points\n",
    "    sample_lons.append(r.lons) # stored as a list of arrays\n",
    "    sample_lats.append(r.lats)\n",
    "\n",
    "# initial_idx will add begin point to each list (but not end point to avoid dubbling) so add final endpoint manually\n",
    "sample_lons = np.append(np.hstack(sample_lons), endlong)\n",
    "sample_lats = np.append(np.hstack(sample_lats), endlat)"
   ]
  },
  {
   "cell_type": "markdown",
   "metadata": {},
   "source": [
    "### Define particles and sampling functions "
   ]
  },
  {
   "cell_type": "code",
   "execution_count": 8,
   "metadata": {},
   "outputs": [],
   "source": [
    "# Create ADCP like particles to sample the ocean\n",
    "class ADCPParticle(JITParticle):\n",
    "    \"\"\"Define a new particle class that does ADCP like measurements\"\"\"\n",
    "    U = Variable('U', dtype=np.float32, initial=0.0)\n",
    "    V = Variable('V', dtype=np.float32, initial=0.0)\n",
    "\n",
    "# define ADCP sampling function from Usample and Vsample (because of A grid)\n",
    "def SampleVel(particle, fieldset, time):\n",
    "    particle.U, particle.V = fieldset.UV.eval(time, particle.depth, particle.lat, particle.lon, applyConversion=False)\n",
    "    # particle.V = fieldset.V.eval(time, particle.depth, particle.lat, particle.lon, applyConversion=False)\n",
    "\n",
    "# Create CTD like particles to sample the ocean\n",
    "class CTDParticle(JITParticle):\n",
    "    \"\"\"Define a new particle class that does CTD like measurements\"\"\"\n",
    "    salinity = Variable(\"salinity\", initial=np.nan)\n",
    "    temperature = Variable(\"temperature\", initial=np.nan)\n",
    "    raising = Variable(\"raising\", dtype=np.int32, initial=0.0)\n",
    "\n",
    "# define function lowering and raising CTD\n",
    "def CTDcast(particle, fieldset, time):\n",
    "    seafloor = fieldset.bathymetry[time, particle.depth, particle.lat, particle.lon]\n",
    "    vertical_speed = 1.0  # sink and rise speed in m/s\n",
    "\n",
    "    if particle.raising == 0:\n",
    "        # Sinking with vertical_speed until near seafloor\n",
    "        particle_ddepth = vertical_speed * particle.dt\n",
    "        if particle.depth >= (seafloor - 20):\n",
    "            particle.raising = 1\n",
    "\n",
    "    elif particle.raising == 1:\n",
    "        # Rising with vertical_speed until depth is 1.5 m\n",
    "        while particle.depth > 1.5:\n",
    "            particle_ddepth = vertical_speed * particle.dt\n",
    "            if particle.depth <= 1.5:\n",
    "                # to break the loop ...\n",
    "                particle.state = 4\n",
    "                print(\"CTD cast finished\")\n",
    "\n",
    "# define function sampling Salinity\n",
    "def SampleS(particle, fieldset, time):\n",
    "    particle.salinity = fieldset.S[time, particle.depth, particle.lat, particle.lon]\n",
    "\n",
    "# define function sampling Temperature\n",
    "def SampleT(particle, fieldset, time):\n",
    "    particle.temperature = fieldset.T[time, particle.depth, particle.lat, particle.lon]"
   ]
  },
  {
   "cell_type": "markdown",
   "metadata": {},
   "source": [
    "### Run simulation"
   ]
  },
  {
   "cell_type": "code",
   "execution_count": 9,
   "metadata": {},
   "outputs": [
    {
     "name": "stdout",
     "output_type": "stream",
     "text": [
      "0 P[10](lon=-94.394531, lat=-4.390229, depth=5.000000, U=0.000000, V=0.000000, time=0.000000)\n",
      "P[11](lon=-94.394531, lat=-4.390229, depth=253.750000, U=0.000000, V=0.000000, time=0.000000)\n",
      "P[12](lon=-94.394531, lat=-4.390229, depth=502.500000, U=0.000000, V=0.000000, time=0.000000)\n",
      "P[13](lon=-94.394531, lat=-4.390229, depth=751.250000, U=0.000000, V=0.000000, time=0.000000)\n",
      "P[14](lon=-94.394531, lat=-4.390229, depth=1000.000000, U=0.000000, V=0.000000, time=0.000000)\n",
      "INFO: Output files are stored in .results/sailship_adcp.zarr.\n",
      "100%|██████████| 1.0/1.0 [00:20<00:00, 20.65s/it]\n",
      "Writing time 0.0\n",
      "CTD time!\n",
      "INFO: Output files are stored in CTD_test_1.zarr.\n"
     ]
    },
    {
     "ename": "KeyboardInterrupt",
     "evalue": "",
     "output_type": "error",
     "traceback": [
      "\u001b[0;31m---------------------------------------------------------------------------\u001b[0m",
      "\u001b[0;31mKeyboardInterrupt\u001b[0m                         Traceback (most recent call last)",
      "\u001b[0;32m/tmp/ipykernel_555944/4071600208.py\u001b[0m in \u001b[0;36m<module>\u001b[0;34m\u001b[0m\n\u001b[1;32m     40\u001b[0m \u001b[0;34m\u001b[0m\u001b[0m\n\u001b[1;32m     41\u001b[0m         \u001b[0;31m# record the temperature and salinity of the particle\u001b[0m\u001b[0;34m\u001b[0m\u001b[0;34m\u001b[0m\u001b[0;34m\u001b[0m\u001b[0m\n\u001b[0;32m---> 42\u001b[0;31m         \u001b[0mpset_CTD\u001b[0m\u001b[0;34m.\u001b[0m\u001b[0mexecute\u001b[0m\u001b[0;34m(\u001b[0m\u001b[0;34m[\u001b[0m\u001b[0mCTDcast\u001b[0m\u001b[0;34m,\u001b[0m \u001b[0mSampleS\u001b[0m\u001b[0;34m,\u001b[0m \u001b[0mSampleT\u001b[0m\u001b[0;34m]\u001b[0m\u001b[0;34m,\u001b[0m \u001b[0mruntime\u001b[0m\u001b[0;34m=\u001b[0m\u001b[0mtimedelta\u001b[0m\u001b[0;34m(\u001b[0m\u001b[0mhours\u001b[0m\u001b[0;34m=\u001b[0m\u001b[0;36m5\u001b[0m\u001b[0;34m)\u001b[0m\u001b[0;34m,\u001b[0m \u001b[0mdt\u001b[0m\u001b[0;34m=\u001b[0m\u001b[0mtimedelta\u001b[0m\u001b[0;34m(\u001b[0m\u001b[0mseconds\u001b[0m\u001b[0;34m=\u001b[0m\u001b[0;36m1\u001b[0m\u001b[0;34m)\u001b[0m\u001b[0;34m,\u001b[0m \u001b[0moutput_file\u001b[0m\u001b[0;34m=\u001b[0m\u001b[0mctd_output_file\u001b[0m\u001b[0;34m)\u001b[0m\u001b[0;34m\u001b[0m\u001b[0;34m\u001b[0m\u001b[0m\n\u001b[0m\u001b[1;32m     43\u001b[0m         \u001b[0mtotal_time\u001b[0m \u001b[0;34m=\u001b[0m \u001b[0mpset_CTD\u001b[0m\u001b[0;34m.\u001b[0m\u001b[0mtime\u001b[0m\u001b[0;34m[\u001b[0m\u001b[0;36m0\u001b[0m\u001b[0;34m]\u001b[0m\u001b[0;34m\u001b[0m\u001b[0;34m\u001b[0m\u001b[0m\n\u001b[1;32m     44\u001b[0m         \u001b[0mprint\u001b[0m\u001b[0;34m(\u001b[0m\u001b[0mtotal_time\u001b[0m\u001b[0;34m)\u001b[0m\u001b[0;34m\u001b[0m\u001b[0;34m\u001b[0m\u001b[0m\n",
      "\u001b[0;32m~/parcels/parcels/particleset.py\u001b[0m in \u001b[0;36mexecute\u001b[0;34m(self, pyfunc, pyfunc_inter, endtime, runtime, dt, output_file, verbose_progress, postIterationCallbacks, callbackdt)\u001b[0m\n\u001b[1;32m    946\u001b[0m             \u001b[0;31m# If we don't perform interaction, only execute the normal kernel efficiently.\u001b[0m\u001b[0;34m\u001b[0m\u001b[0;34m\u001b[0m\u001b[0;34m\u001b[0m\u001b[0m\n\u001b[1;32m    947\u001b[0m             \u001b[0;32mif\u001b[0m \u001b[0mself\u001b[0m\u001b[0;34m.\u001b[0m\u001b[0minteraction_kernel\u001b[0m \u001b[0;32mis\u001b[0m \u001b[0;32mNone\u001b[0m\u001b[0;34m:\u001b[0m\u001b[0;34m\u001b[0m\u001b[0;34m\u001b[0m\u001b[0m\n\u001b[0;32m--> 948\u001b[0;31m                 \u001b[0mres\u001b[0m \u001b[0;34m=\u001b[0m \u001b[0mself\u001b[0m\u001b[0;34m.\u001b[0m\u001b[0mkernel\u001b[0m\u001b[0;34m.\u001b[0m\u001b[0mexecute\u001b[0m\u001b[0;34m(\u001b[0m\u001b[0mself\u001b[0m\u001b[0;34m,\u001b[0m \u001b[0mendtime\u001b[0m\u001b[0;34m=\u001b[0m\u001b[0mnext_time\u001b[0m\u001b[0;34m,\u001b[0m \u001b[0mdt\u001b[0m\u001b[0;34m=\u001b[0m\u001b[0mdt\u001b[0m\u001b[0;34m)\u001b[0m\u001b[0;34m\u001b[0m\u001b[0;34m\u001b[0m\u001b[0m\n\u001b[0m\u001b[1;32m    949\u001b[0m                 \u001b[0;32mif\u001b[0m \u001b[0mres\u001b[0m \u001b[0;34m==\u001b[0m \u001b[0mStatusCode\u001b[0m\u001b[0;34m.\u001b[0m\u001b[0mStopAllExecution\u001b[0m\u001b[0;34m:\u001b[0m\u001b[0;34m\u001b[0m\u001b[0;34m\u001b[0m\u001b[0m\n\u001b[1;32m    950\u001b[0m                     \u001b[0;32mreturn\u001b[0m \u001b[0mStatusCode\u001b[0m\u001b[0;34m.\u001b[0m\u001b[0mStopAllExecution\u001b[0m\u001b[0;34m\u001b[0m\u001b[0;34m\u001b[0m\u001b[0m\n",
      "\u001b[0;32m~/parcels/parcels/kernel.py\u001b[0m in \u001b[0;36mexecute\u001b[0;34m(self, pset, endtime, dt)\u001b[0m\n\u001b[1;32m    560\u001b[0m         \u001b[0;31m# Execute the kernel over the particle set\u001b[0m\u001b[0;34m\u001b[0m\u001b[0;34m\u001b[0m\u001b[0;34m\u001b[0m\u001b[0m\n\u001b[1;32m    561\u001b[0m         \u001b[0;32mif\u001b[0m \u001b[0mself\u001b[0m\u001b[0;34m.\u001b[0m\u001b[0mptype\u001b[0m\u001b[0;34m.\u001b[0m\u001b[0muses_jit\u001b[0m\u001b[0;34m:\u001b[0m\u001b[0;34m\u001b[0m\u001b[0;34m\u001b[0m\u001b[0m\n\u001b[0;32m--> 562\u001b[0;31m             \u001b[0mself\u001b[0m\u001b[0;34m.\u001b[0m\u001b[0mexecute_jit\u001b[0m\u001b[0;34m(\u001b[0m\u001b[0mpset\u001b[0m\u001b[0;34m,\u001b[0m \u001b[0mendtime\u001b[0m\u001b[0;34m,\u001b[0m \u001b[0mdt\u001b[0m\u001b[0;34m)\u001b[0m\u001b[0;34m\u001b[0m\u001b[0;34m\u001b[0m\u001b[0m\n\u001b[0m\u001b[1;32m    563\u001b[0m         \u001b[0;32melse\u001b[0m\u001b[0;34m:\u001b[0m\u001b[0;34m\u001b[0m\u001b[0;34m\u001b[0m\u001b[0m\n\u001b[1;32m    564\u001b[0m             \u001b[0mself\u001b[0m\u001b[0;34m.\u001b[0m\u001b[0mexecute_python\u001b[0m\u001b[0;34m(\u001b[0m\u001b[0mpset\u001b[0m\u001b[0;34m,\u001b[0m \u001b[0mendtime\u001b[0m\u001b[0;34m,\u001b[0m \u001b[0mdt\u001b[0m\u001b[0;34m)\u001b[0m\u001b[0;34m\u001b[0m\u001b[0;34m\u001b[0m\u001b[0m\n",
      "\u001b[0;32m~/parcels/parcels/kernel.py\u001b[0m in \u001b[0;36mexecute_jit\u001b[0;34m(self, pset, endtime, dt)\u001b[0m\n\u001b[1;32m    520\u001b[0m     \u001b[0;32mdef\u001b[0m \u001b[0mexecute_jit\u001b[0m\u001b[0;34m(\u001b[0m\u001b[0mself\u001b[0m\u001b[0;34m,\u001b[0m \u001b[0mpset\u001b[0m\u001b[0;34m,\u001b[0m \u001b[0mendtime\u001b[0m\u001b[0;34m,\u001b[0m \u001b[0mdt\u001b[0m\u001b[0;34m)\u001b[0m\u001b[0;34m:\u001b[0m\u001b[0;34m\u001b[0m\u001b[0;34m\u001b[0m\u001b[0m\n\u001b[1;32m    521\u001b[0m         \u001b[0;34m\"\"\"Invokes JIT engine to perform the core update loop.\"\"\"\u001b[0m\u001b[0;34m\u001b[0m\u001b[0;34m\u001b[0m\u001b[0m\n\u001b[0;32m--> 522\u001b[0;31m         \u001b[0mself\u001b[0m\u001b[0;34m.\u001b[0m\u001b[0mload_fieldset_jit\u001b[0m\u001b[0;34m(\u001b[0m\u001b[0mpset\u001b[0m\u001b[0;34m)\u001b[0m\u001b[0;34m\u001b[0m\u001b[0;34m\u001b[0m\u001b[0m\n\u001b[0m\u001b[1;32m    523\u001b[0m \u001b[0;34m\u001b[0m\u001b[0m\n\u001b[1;32m    524\u001b[0m         \u001b[0mfargs\u001b[0m \u001b[0;34m=\u001b[0m \u001b[0;34m[\u001b[0m\u001b[0mbyref\u001b[0m\u001b[0;34m(\u001b[0m\u001b[0mf\u001b[0m\u001b[0;34m.\u001b[0m\u001b[0mctypes_struct\u001b[0m\u001b[0;34m)\u001b[0m \u001b[0;32mfor\u001b[0m \u001b[0mf\u001b[0m \u001b[0;32min\u001b[0m \u001b[0mself\u001b[0m\u001b[0;34m.\u001b[0m\u001b[0mfield_args\u001b[0m\u001b[0;34m.\u001b[0m\u001b[0mvalues\u001b[0m\u001b[0;34m(\u001b[0m\u001b[0;34m)\u001b[0m\u001b[0;34m]\u001b[0m\u001b[0;34m\u001b[0m\u001b[0;34m\u001b[0m\u001b[0m\n",
      "\u001b[0;32m~/parcels/parcels/kernel.py\u001b[0m in \u001b[0;36mload_fieldset_jit\u001b[0;34m(self, pset)\u001b[0m\n\u001b[1;32m    499\u001b[0m                     \u001b[0;32mraise\u001b[0m \u001b[0mRuntimeError\u001b[0m\u001b[0;34m(\u001b[0m\u001b[0;34mf'Field {f.name} data needs to be float32 in JIT mode'\u001b[0m\u001b[0;34m)\u001b[0m\u001b[0;34m\u001b[0m\u001b[0;34m\u001b[0m\u001b[0m\n\u001b[1;32m    500\u001b[0m                 \u001b[0;32mif\u001b[0m \u001b[0mf\u001b[0m \u001b[0;32min\u001b[0m \u001b[0mself\u001b[0m\u001b[0;34m.\u001b[0m\u001b[0mfield_args\u001b[0m\u001b[0;34m.\u001b[0m\u001b[0mvalues\u001b[0m\u001b[0;34m(\u001b[0m\u001b[0;34m)\u001b[0m\u001b[0;34m:\u001b[0m\u001b[0;34m\u001b[0m\u001b[0;34m\u001b[0m\u001b[0m\n\u001b[0;32m--> 501\u001b[0;31m                     \u001b[0mf\u001b[0m\u001b[0;34m.\u001b[0m\u001b[0mchunk_data\u001b[0m\u001b[0;34m(\u001b[0m\u001b[0;34m)\u001b[0m\u001b[0;34m\u001b[0m\u001b[0;34m\u001b[0m\u001b[0m\n\u001b[0m\u001b[1;32m    502\u001b[0m                 \u001b[0;32melse\u001b[0m\u001b[0;34m:\u001b[0m\u001b[0;34m\u001b[0m\u001b[0;34m\u001b[0m\u001b[0m\n\u001b[1;32m    503\u001b[0m                     \u001b[0;32mfor\u001b[0m \u001b[0mblock_id\u001b[0m \u001b[0;32min\u001b[0m \u001b[0mrange\u001b[0m\u001b[0;34m(\u001b[0m\u001b[0mlen\u001b[0m\u001b[0;34m(\u001b[0m\u001b[0mf\u001b[0m\u001b[0;34m.\u001b[0m\u001b[0mdata_chunks\u001b[0m\u001b[0;34m)\u001b[0m\u001b[0;34m)\u001b[0m\u001b[0;34m:\u001b[0m\u001b[0;34m\u001b[0m\u001b[0;34m\u001b[0m\u001b[0m\n",
      "\u001b[0;32m~/parcels/parcels/field.py\u001b[0m in \u001b[0;36mchunk_data\u001b[0;34m(self)\u001b[0m\n\u001b[1;32m   1293\u001b[0m             \u001b[0mself\u001b[0m\u001b[0;34m.\u001b[0m\u001b[0mc_data_chunks\u001b[0m\u001b[0;34m[\u001b[0m\u001b[0;36m0\u001b[0m\u001b[0;34m]\u001b[0m \u001b[0;34m=\u001b[0m \u001b[0;32mNone\u001b[0m\u001b[0;34m\u001b[0m\u001b[0;34m\u001b[0m\u001b[0m\n\u001b[1;32m   1294\u001b[0m             \u001b[0mself\u001b[0m\u001b[0;34m.\u001b[0m\u001b[0mgrid\u001b[0m\u001b[0;34m.\u001b[0m\u001b[0mload_chunk\u001b[0m\u001b[0;34m[\u001b[0m\u001b[0;36m0\u001b[0m\u001b[0;34m]\u001b[0m \u001b[0;34m=\u001b[0m \u001b[0mg\u001b[0m\u001b[0;34m.\u001b[0m\u001b[0mchunk_loaded_touched\u001b[0m\u001b[0;34m\u001b[0m\u001b[0;34m\u001b[0m\u001b[0m\n\u001b[0;32m-> 1295\u001b[0;31m             \u001b[0mself\u001b[0m\u001b[0;34m.\u001b[0m\u001b[0mdata_chunks\u001b[0m\u001b[0;34m[\u001b[0m\u001b[0;36m0\u001b[0m\u001b[0;34m]\u001b[0m \u001b[0;34m=\u001b[0m \u001b[0mnp\u001b[0m\u001b[0;34m.\u001b[0m\u001b[0marray\u001b[0m\u001b[0;34m(\u001b[0m\u001b[0mself\u001b[0m\u001b[0;34m.\u001b[0m\u001b[0mdata\u001b[0m\u001b[0;34m,\u001b[0m \u001b[0morder\u001b[0m\u001b[0;34m=\u001b[0m\u001b[0;34m'C'\u001b[0m\u001b[0;34m)\u001b[0m\u001b[0;34m\u001b[0m\u001b[0;34m\u001b[0m\u001b[0m\n\u001b[0m\u001b[1;32m   1296\u001b[0m \u001b[0;34m\u001b[0m\u001b[0m\n\u001b[1;32m   1297\u001b[0m     \u001b[0;34m@\u001b[0m\u001b[0mproperty\u001b[0m\u001b[0;34m\u001b[0m\u001b[0;34m\u001b[0m\u001b[0m\n",
      "\u001b[0;31mKeyboardInterrupt\u001b[0m: "
     ]
    }
   ],
   "source": [
    "# Create ADCP like particle set TODO accurate depths\n",
    "depthnum = 5\n",
    "# Initiate ADCP like particle set\n",
    "pset = ParticleSet.from_list(\n",
    "    fieldset=fieldset, pclass=ADCPParticle, lon=np.full(depthnum,sample_lons[0]), lat=np.full(depthnum,sample_lats[0]), depth=np.linspace(5, 1000, num=depthnum), time=0\n",
    ")\n",
    "\n",
    "# create a ParticleFile to store the ADCP output\n",
    "adcp_output_file = pset.ParticleFile(name=\".results/sailship_adcp.zarr\")\n",
    "\n",
    "# TODO use total time in setting appropriate time for ADCP particles?\n",
    "total_time = 0\n",
    "\n",
    "# initialize CTD station number\n",
    "ctd = 0\n",
    "\n",
    "# run the model for the length of the sample_lons list\n",
    "for i in range(len(sample_lons)):\n",
    "\n",
    "    # set the ADCP particle lon and lat\n",
    "    pset.lon[:] = sample_lons[i]\n",
    "    pset.lat[:] = sample_lats[i]\n",
    "\n",
    "    print(i, pset)\n",
    "\n",
    "    # execute the kernels to sample U and V\n",
    "    pset.execute(SampleVel, dt=1, runtime=1, output_file=adcp_output_file)\n",
    "    print(f\"Writing time {pset.time[0]}\")\n",
    "\n",
    "    # check if we are at a CTD station\n",
    "    if sample_lons[i] == coords[ctd][0] and sample_lats[i] == coords[ctd][1]:\n",
    "        print('CTD time!')\n",
    "        ctd += 1\n",
    "\n",
    "        # create a ParticleFile to store the CTD output\n",
    "        ctd_output_file = pset.ParticleFile(name=f\"CTD_test_{ctd}.zarr\")\n",
    "\n",
    "        # release CTD particle\n",
    "        pset_CTD = ParticleSet(fieldset=fieldset, pclass=CTDParticle, lon=sample_lons[i], lat=sample_lats[i], depth=fieldset.z_start, time=total_time)\n",
    "\n",
    "        # record the temperature and salinity of the particle\n",
    "        pset_CTD.execute([CTDcast, SampleS, SampleT], runtime=timedelta(hours=5), dt=timedelta(seconds=1), output_file=ctd_output_file)\n",
    "        total_time = pset_CTD.time[0]\n",
    "        print(total_time)\n",
    "\n",
    "    # update the particle time\n",
    "    total_time += timedelta(hours=1).total_seconds()\n",
    "    pset.time[:] = total_time\n",
    "\n",
    "\n"
   ]
  },
  {
   "cell_type": "code",
   "execution_count": null,
   "metadata": {},
   "outputs": [],
   "source": [
    "import xarray as xr\n",
    "# Open and combine the CTD output files\n",
    "da = xr.open_zarr(\"./results/CTD_test_1.zarr\")\n",
    "for i in range(2, ctd+1):\n",
    "    da = xr.concat([da, xr.open_zarr(f\"./results/CTD_test_{i}.zarr\")], \"obs\")\n",
    "# Write the combined output to a netcdf file\n",
    "da.to_netcdf(\"./results/CTD_test.nc\", mode=\"w\")\n",
    "da.close()"
   ]
  },
  {
   "cell_type": "markdown",
   "metadata": {},
   "source": [
    "### Do some plotting to check output"
   ]
  },
  {
   "cell_type": "code",
   "execution_count": null,
   "metadata": {},
   "outputs": [],
   "source": [
    "import matplotlib.pyplot as plt\n",
    "import xarray as xr\n",
    "from mpl_toolkits.mplot3d import Axes3D\n",
    "\n",
    "# Open output and read to x, y, z\n",
    "ds = xr.open_zarr(\"./results/sailship_adcp.zarr\")\n",
    "# ds = xr.open_zarr('tmp.zarr')\n",
    "x = ds[\"lon\"][:].squeeze()\n",
    "y = ds[\"lat\"][:].squeeze()\n",
    "z = ds[\"z\"][:].squeeze()\n",
    "U = ds[\"U\"][:].squeeze()\n",
    "V = ds[\"V\"][:].squeeze()\n",
    "ds.close()\n",
    "\n",
    "# Plot Particle depth\n",
    "fig = plt.figure(figsize=(13, 10))\n",
    "ax = plt.axes(projection=\"3d\")\n",
    "cb = ax.scatter(x, y, z, c=V, s=20, marker=\"o\")\n",
    "ax.set_xlabel(\"Longitude\")\n",
    "ax.set_ylabel(\"Latitude\")\n",
    "ax.set_zlabel(\"Depth (m)\")\n",
    "ax.set_zlim(np.max(z), 0)\n",
    "plt.show()"
   ]
  },
  {
   "cell_type": "markdown",
   "metadata": {},
   "source": [
    "### Plot CTD casts"
   ]
  },
  {
   "cell_type": "code",
   "execution_count": null,
   "metadata": {},
   "outputs": [],
   "source": [
    "# Open output and read to x, y, z\n",
    "ds = xr.open_dataset(\"./results/CTD_test.nc\")\n",
    "x = ds[\"lon\"][:].squeeze()\n",
    "y = ds[\"lat\"][:].squeeze()\n",
    "z = ds[\"z\"][:].squeeze()\n",
    "U = ds[\"U\"][:].squeeze()\n",
    "V = ds[\"V\"][:].squeeze()\n",
    "# salinity = ds[\"salinity\"][:].squeeze()\n",
    "# temperature = ds[\"temperature\"][:].squeeze()\n",
    "ds.close()\n",
    "\n",
    "# Plot Particle depth\n",
    "fig = plt.figure(figsize=(13, 10))\n",
    "ax = plt.axes(projection=\"3d\")\n",
    "cb = ax.scatter(x, y, z, c=U, s=20, marker=\"o\")\n",
    "ax.set_xlabel(\"Longitude\")\n",
    "ax.set_ylabel(\"Latitude\")\n",
    "ax.set_zlabel(\"Depth (m)\")\n",
    "ax.set_zlim(np.max(z), 0)\n",
    "plt.show()"
   ]
  },
  {
   "cell_type": "code",
   "execution_count": null,
   "metadata": {},
   "outputs": [],
   "source": [
    "\n",
    "da = xr.open_zarr(\"CTD_test_2.zarr\")\n",
    "print(da)\n",
    "da.close()\n",
    "print(ctd)"
   ]
  },
  {
   "cell_type": "code",
   "execution_count": null,
   "metadata": {},
   "outputs": [],
   "source": []
  }
 ],
 "metadata": {
  "kernelspec": {
   "display_name": "py3_parcels",
   "language": "python",
   "name": "python3"
  },
  "language_info": {
   "codemirror_mode": {
    "name": "ipython",
    "version": 3
   },
   "file_extension": ".py",
   "mimetype": "text/x-python",
   "name": "python",
   "nbconvert_exporter": "python",
   "pygments_lexer": "ipython3",
   "version": "3.8.11"
  },
  "orig_nbformat": 4
 },
 "nbformat": 4,
 "nbformat_minor": 2
}
