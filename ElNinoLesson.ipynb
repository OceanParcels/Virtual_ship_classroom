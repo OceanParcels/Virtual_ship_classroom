{
 "cells": [
  {
   "cell_type": "markdown",
   "metadata": {},
   "source": [
    "Dear Oceanography Students,\n",
    "\n",
    "With excitement and anticipation, we extend our warmest greetings as you embark on an extraordinary journey with us, sailing the vast blue expanse of the Pacific Ocean. Welcome aboard the R/V Ocean Explorer, your home and laboratory for the next few weeks as we delve into the captivating realm of oceanography and the phenomenon known as El Niño.\n",
    "\n",
    "Before embarking on this journey please make sure you have the conda environment called … activated and downloaded the input data from Blackboard. You can test this by running the cell below that imports most of the required packages. "
   ]
  },
  {
   "cell_type": "code",
   "execution_count": 1,
   "metadata": {},
   "outputs": [],
   "source": [
    "from datetime import timedelta\n",
    "import numpy as np\n",
    "import math\n",
    "\n",
    "from parcels import (\n",
    "    FieldSet,\n",
    "    JITParticle,\n",
    "    ScipyParticle,\n",
    "    ParticleSet,\n",
    "    Variable,\n",
    ")\n",
    "\n",
    "import xarray as xr\n",
    "import matplotlib.pyplot as plt"
   ]
  },
  {
   "cell_type": "markdown",
   "metadata": {},
   "source": [
    "In addition, we kindly ask for your attention to the following emergency procedures.\n",
    "\n",
    "Safety Drills: We conduct regular safety drills to ensure that everyone on board is well-prepared in case of an emergency. Specifically, fire and boat drills are held once a week. These drills are not just routine; they are essential survival training and should be taken seriously.\n",
    "\n",
    "Advance Notification: To minimize disruption to the research program, science party members are usually notified in advance of the scheduled drills. In the event that you must continue working during a drill, prior arrangements can be made through the Chief Scientist.\n",
    "\n",
    "Emergency Signal: In the event of an emergency signal, your immediate action is crucial. Don life jackets, put on long-sleeved garments, and wear a hat or head covering if available. Then, proceed to the designated station indicated on the station card located next to your bunk.\n",
    "\n",
    "On-Call Readiness: Please keep in mind that while on board the ship, you may be called upon without warning to assist during your off-watch periods. Emergencies can happen at any time, and your readiness to respond promptly and efficiently is essential to the safety of all aboard.\n",
    "\n",
    "Boat Drill (Abandon Ship): The signal for abandon ship is seven or more short blasts followed by one long blast of the ship’s whistle and general alarm. When this signal is heard, report to your designated life raft station. There the Mate in charge will explain the procedures for launching and embarking into the life rafts. The rafts will not be launched during a drill.\n",
    "\n",
    "Fire and Emergency Drills: The signal is one long blast on the ship’s whistle and general alarm bell, lasting for ten seconds or more. During this drill, members of the science party muster in the designated area. Attendance will be taken and reported to the bridge.\n",
    "\n",
    "Man Overboard: If someone falls overboard, throw a life-ring into the water towards the person. Keep your eye on the person at all times and point towards the person. Shout “MAN OVERBOARD, STARBOARD (or PORT),” and call the bridge on the sound powered phone or squawk box to inform them without losing sight of the person if possible. If you hear someone hail \"Man Overboard,\" pass the word to the bridge.\n",
    "\n",
    "By familiarizing yourself with these procedures and being diligent in their execution, you play an active role in ensuring the well-being of the entire crew and the success of our research mission."
   ]
  },
  {
   "cell_type": "markdown",
   "metadata": {},
   "source": [
    "The research vessel we are using is equipped with a CTD (Conductivity, Temperature, and Depth) profiler and ADPC (Acoustic Doppler Current Profiler). \n",
    "\n",
    "The CTD profiler is your window into the ocean's physical properties. It measures parameters like temperature, salinity, and depth, providing invaluable insights into ocean stratification and circulation. \n",
    "The ADPC is your radar beneath the waves. It employs sound waves to map currents and water velocity, revealing the dynamic movements of the ocean. Understanding these currents is essential in unraveling the complex mechanisms of El Niño.\n",
    "\n",
    "Our mission will last for three weeks. Three weeks is found to be a good trade-off between reasearch time and time that it's still enjoyable to be on a vessel. This time frame will limit the time for our scientific mission, but please consider that even at 90°W ample evidence of El Niño can be collected. Also, the depth of the thermocline might be interesting to investigate. "
   ]
  },
  {
   "cell_type": "markdown",
   "metadata": {},
   "source": [
    "![El Nino devations of surface winds and temperature](El_nino_T_winds_deviation.gif)\n",
    "source: https://www.cpc.ncep.noaa.gov/products/analysis_monitoring/ensocycle/cycle_winds.shtml"
   ]
  },
  {
   "cell_type": "markdown",
   "metadata": {},
   "source": [
    "So, let's chart our course and plan the next three weeks of research. Below, you'll find a map detailing our intended cruise area. Your mission is to determine the best research stations (= CTD sample locations) and routes to gather data that will deepen our understanding of El Niño. Consider the ocean's depth, known El Niño hotspots, and areas of interest when planning your route. Our vessels home port and place to board is Puntarenas, Costa Rica: 9°58'39.5\"N 84°50'55.9\"W.\n",
    "\n",
    "Run the cell below to generate the map. Once you see the map, click on the line feature “Draw a polyline” and start drawing the line. Each point you click will show up as a white square and will be used as a CTD sample location, the ADCP measurements will be conducted along the blue lines connecting the research stations. Double click the last point to finish the line (or click Finish). "
   ]
  },
  {
   "cell_type": "code",
   "execution_count": 4,
   "metadata": {},
   "outputs": [
    {
     "data": {
      "application/vnd.jupyter.widget-view+json": {
       "model_id": "e980454d417c43649a61e35ea75417fd",
       "version_major": 2,
       "version_minor": 0
      },
      "text/plain": [
       "Map(center=[0, -120], controls=(ZoomControl(options=['position', 'zoom_in_text', 'zoom_in_title', 'zoom_out_te…"
      ]
     },
     "execution_count": 4,
     "metadata": {},
     "output_type": "execute_result"
    }
   ],
   "source": [
    "import leafmap \n",
    "from ipyleaflet import Rectangle\n",
    "\n",
    "m = leafmap.leafmap.Map(center=(0, -120), zoom=4)\n",
    "# Draw a rectange to indicate data availability \n",
    "m.add_layer(Rectangle(bounds=((5, -170), (-10, -75))))\n",
    "m"
   ]
  },
  {
   "cell_type": "markdown",
   "metadata": {},
   "source": [
    "Run the following cell to output your latitude and longitude coordinates:"
   ]
  },
  {
   "cell_type": "code",
   "execution_count": null,
   "metadata": {},
   "outputs": [],
   "source": [
    "line = m.user_rois\n",
    "coords =  line.get('features')[0].get('geometry').get('coordinates')\n",
    "print(coords) "
   ]
  },
  {
   "cell_type": "markdown",
   "metadata": {},
   "source": [
    "Please rerun the cells and draw the line until you are satisfied with the result. Or make a similar vector of lat-lon coordinates yourself. \n",
    "\n",
    "Do ensure that the time allotted for the expedition does not exceed the designated thee-week duration. Please remember to consider factors like your home port, weather conditions and any additional time needed for data collection and analysis.\n",
    "\n",
    "Here's a possible outline of how to check on the length of your cruise plan:\n",
    "\n",
    "1.\tGather the latitude and longitude coordinates of your research stations.\n",
    "2.\tPlug these coordinates into the Haversine formula to calculate the distance between each station:"
   ]
  },
  {
   "cell_type": "markdown",
   "metadata": {},
   "source": [
    "![Haversine formula](haversine.jpg)"
   ]
  },
  {
   "cell_type": "markdown",
   "metadata": {},
   "source": [
    "3.\tKnowing the vessel's cruising speed of 14 km/h, you can then estimate the time required to travel between each station by dividing the distance by the vessel's speed.\n",
    "4.\tAdd time for each CTD cast you make. The ocean is around 4 km deep in the Niño3.4 area and a CTD is lowered and raised with a speed of 1 m/s. "
   ]
  },
  {
   "cell_type": "markdown",
   "metadata": {},
   "source": [
    "We'd like to emphasize the importance of staying within our designated three-week timeframe. If your cruise plan indicates that the journey would exceed this allotted time, we kindly request that you revise and adjust your route accordingly. \n",
    "\n",
    "If you have thoroughly reviewed and are content with your research plan, the time has come to take action and go aboard the R/V Ocean Explorer!"
   ]
  }
 ],
 "metadata": {
  "kernelspec": {
   "display_name": "parcels",
   "language": "python",
   "name": "python3"
  },
  "language_info": {
   "codemirror_mode": {
    "name": "ipython",
    "version": 3
   },
   "file_extension": ".py",
   "mimetype": "text/x-python",
   "name": "python",
   "nbconvert_exporter": "python",
   "pygments_lexer": "ipython3",
   "version": "3.11.5"
  }
 },
 "nbformat": 4,
 "nbformat_minor": 2
}
