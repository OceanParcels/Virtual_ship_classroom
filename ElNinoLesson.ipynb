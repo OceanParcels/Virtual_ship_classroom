{
 "cells": [
  {
   "cell_type": "code",
   "execution_count": null,
   "metadata": {},
   "outputs": [],
   "source": [
    "Latest version for IPO can be found at: https://colab.research.google.com/drive/1dabU91WECy5cglb2mVC-8SG4muFNlQrw?usp=sharing"
   ]
  },
  {
   "cell_type": "markdown",
   "metadata": {},
   "source": [
    "Dear Oceanography Students,\n",
    "\n",
    "With excitement and anticipation, we extend our warmest greetings as you embark on an extraordinary journey with us, sailing the vast blue expanse of the Pacific Ocean. Welcome aboard the R/V Ocean Explorer, your home and laboratory for the next few weeks as we delve into the captivating realm of oceanography and the phenomenon known as El Niño.\n",
    "\n",
    "Before embarking on this journey please make sure you install the required packages in colab: "
   ]
  },
  {
   "cell_type": "code",
   "execution_count": 1,
   "metadata": {},
   "outputs": [],
   "source": [
    "!pip install parcels\n",
    "!pip install cartopy\n",
    "!pip install xarray\n",
    "!pip install cftime\n",
    "!pip install cgen\n",
    "!pip install netCDF4\n",
    "!pip install zarr\n",
    "!pip install leafmap\n",
    "!pip install pymbolic"
   ]
  },
  {
   "cell_type": "code",
   "execution_count": null,
   "metadata": {},
   "outputs": [],
   "source": [
    "# Download data\n",
    "import requests\n",
    "\n",
    "files = {\n",
    "    \"studentdata_UV.nc\":\"https://surfdrive.surf.nl/files/index.php/s/kpm6LAopuY1WonX/download\", \n",
    "    \"studentdata_S.nc\":\"https://surfdrive.surf.nl/files/index.php/s/pSXY546jD3iOLBL/download\",\n",
    "    \"studentdata_T.nc\":\"https://surfdrive.surf.nl/files/index.php/s/k3QwnvwhVLmXtxt/download\",\n",
    "    \"virtualship.py\":\"https://raw.githubusercontent.com/OceanParcels/Virtual_ship_classroom/main/virtualship.py\"}\n",
    "\n",
    "for filename, url in files.items():\n",
    "  response = requests.get(url, allow_redirects=True)\n",
    "  \n",
    "  if response.status_code == 200:\n",
    "      with open(filename, \"wb\") as f:\n",
    "          f.write(response.content)\n",
    "  else:\n",
    "      print(\"Failed to download\", url)"
   ]
  },
  {
   "cell_type": "markdown",
   "metadata": {},
   "source": [
    "While that's being handled, we kindly ask for your attention to the following emergency procedures.\n",
    "\n",
    "**Safety Drills:** We conduct regular safety drills to ensure that everyone on board is well-prepared in case of an emergency. Specifically, fire and boat drills are held once a week. These drills are not just routine; they are essential survival training and should be taken seriously. To minimize disruption to the research program, science party members are usually notified in advance of the scheduled drills. In the event that you must continue working during a drill, prior arrangements can be made through the Chief Scientist.\n",
    "\n",
    "**Emergency Signal:** In the event of an emergency signal, your immediate action is crucial. Don life jackets, put on long-sleeved garments, and wear a hat or head covering if available. Then, proceed to the designated station indicated on the station card located next to your bunk.\n",
    "\n",
    "**On-Call Readiness:** Please keep in mind that while on board the ship, you may be called upon without warning to assist during your off-watch periods. Emergencies can happen at any time, and your readiness to respond promptly and efficiently is essential to the safety of all aboard.\n",
    "\n",
    "**Boat Drill (Abandon Ship):** The signal for abandon ship is seven or more short blasts followed by one long blast of the ship’s whistle and general alarm. When this signal is heard, report to your designated life raft station. There the Mate in charge will explain the procedures for launching and embarking into the life rafts. The rafts will not be launched during a drill.\n",
    "\n",
    "**Fire and Emergency Drills:** The signal is one long blast on the ship’s whistle and general alarm bell, lasting for ten seconds or more. During this drill, members of the science party muster in the designated area. Attendance will be taken and reported to the bridge.\n",
    "\n",
    "**Man Overboard:** If someone falls overboard, throw a life-ring into the water towards the person. Keep your eye on the person at all times and point towards the person. Shout “MAN OVERBOARD, STARBOARD (or PORT),” and call the bridge on the sound powered phone or squawk box to inform them without losing sight of the person if possible. If you hear someone hail \"Man Overboard,\" pass the word to the bridge."
   ]
  },
  {
   "cell_type": "markdown",
   "metadata": {},
   "source": [
    "Now, please continue our preperations and familiarize yourself with our research vessel and its equipment. The research vessel we are using is equipped with a CTD (Conductivity, Temperature, and Depth) and ADCP (Acoustic Doppler Current Profiler). \n",
    "\n",
    "The CTD profiler is your window into the ocean's physical properties. It measures the parameters temperature, salinity, and depth, providing invaluable insights into ocean stratification and circulation. You'll have to decide where and how often to deploy the CTD. A CTD casts takes approximately 3 hours in our region of interest. The data will be postprocessed for you and available in 10m bins. \n",
    "\n",
    "The ADCP is your radar beneath the waves. It employs sound waves to map currents and water velocity, revealing the dynamic movements of the ocean. Our ADCP, a 38kHz Ocean Observer is the longest-range profiler, capable of providing about 1000m of current profiling range. The ADCP is attached to the bottom of our vessel and will continously measure within our area of interest. The data will be postprocessed for you and binned into 50m layers. \n",
    "\n",
    "![ADCP figure](https://www.researchgate.net/profile/Lashika-Medagoda/publication/294279160/figure/fig2/AS:961324506951680@1606209031289/The-ADCP-mode-of-the-DVL-sensor-operates-by-looking-at-the-returns-from-scatterers-in-the.gif)\n",
    "\n",
    "Source: Medagoda et al. 2016. DOI:10.1007/s10514-016-9547-3"
   ]
  },
  {
   "cell_type": "markdown",
   "metadata": {},
   "source": [
    "Our mission will last for three weeks. Three weeks is found to be a good trade-off between reasearch time and time that it's still enjoyable to be on a vessel. This time frame will limit the time for our scientific mission, but please consider that even at 90°W ample evidence of El Niño can be collected. For example, the depth of the thermocline might be interesting to investigate. Deciding on a clear research question will help you in the planning and preparation of the cruise. You can read up on some information here: https://www.climate.gov/news-features/blogs/november-2023-el-nino-update-transport-options"
   ]
  },
  {
   "cell_type": "markdown",
   "metadata": {},
   "source": [
    "$\\color{green}{\\text{Please write down your research question here:}}$"
   ]
  },
  {
   "cell_type": "markdown",
   "metadata": {},
   "source": [
    "So, let's chart our course and plan the next three weeks of research. Below, you'll find a map detailing our intended cruise area. Your mission is to determine the best research stations (= CTD sample locations) and routes to gather data that will deepen our understanding of El Niño. Consider the ocean's depth, known El Niño hotspots, and areas of interest when planning your route. Our vessels home port and place to board is Puntarenas, Costa Rica: 9°58'39.5\"N 84°50'55.9\"W.\n",
    "\n",
    "Run the cell below to generate the map. Once you see the map, click on the line feature “Draw a polyline” and start drawing the line. Each point you click will show up as a white square and will be used as a CTD sample location, the ADCP measurements will be conducted along the blue lines connecting the research stations. Double click the last point to finish the line (or click Finish). Your cruise plan should start and end at Puntarenas. "
   ]
  },
  {
   "cell_type": "code",
   "execution_count": 1,
   "metadata": {},
   "outputs": [
    {
     "data": {
      "application/vnd.jupyter.widget-view+json": {
       "model_id": "ee8e052126c04266b7861b06923463c3",
       "version_major": 2,
       "version_minor": 0
      },
      "text/plain": [
       "Map(center=[0, -120], controls=(ZoomControl(options=['position', 'zoom_in_text', 'zoom_in_title', 'zoom_out_te…"
      ]
     },
     "execution_count": 1,
     "metadata": {},
     "output_type": "execute_result"
    }
   ],
   "source": [
    "import leafmap \n",
    "from ipyleaflet import Rectangle\n",
    "\n",
    "m = leafmap.leafmap.Map(center=(0, -120), zoom=4)\n",
    "# Draw a rectange to indicate El Nino region, where data will be collected \n",
    "m.add_layer(Rectangle(bounds=((5, -170), (-10, -75))))\n",
    "m.add_marker([9.97625, -84.83836])\n",
    "m"
   ]
  },
  {
   "cell_type": "markdown",
   "metadata": {},
   "source": [
    "Run the following cell to output your latitude and longitude coordinates:"
   ]
  },
  {
   "cell_type": "code",
   "execution_count": null,
   "metadata": {},
   "outputs": [],
   "source": [
    "line = m.user_rois\n",
    "coords =  line.get('features')[0].get('geometry').get('coordinates')\n",
    "print(coords) "
   ]
  },
  {
   "cell_type": "markdown",
   "metadata": {},
   "source": [
    "Please rerun the cells and draw the line until you are satisfied with the result. Or make a similar vector of lat-lon coordinates yourself. \n",
    "\n",
    "Do ensure that the time allotted for the expedition does not exceed the designated three-week duration. Please remember to consider factors like your home port, weather conditions and any additional time needed for data collection and analysis.\n",
    "\n",
    "Here's a possible outline of how to check on the length of your cruise plan:\n",
    "\n",
    "1.\tGather the latitude and longitude coordinates of your research stations.\n",
    "2.\tPlug these coordinates into the Haversine formula to calculate the distance between each station:\n",
    "\n",
    "![Haversine formula](https://www.auraq.com/wp-content/uploads/2019/02/charlie2.jpg)\n",
    "\n",
    "3.\tKnowing the vessel's cruising speed of 14 km/h, you can then estimate the time required to travel between each station by dividing the distance by the vessel's speed.\n",
    "4.\tAdd time for each CTD cast you make. The ocean is around 4 km deep in the Niño3.4 area and a CTD is lowered and raised with a speed of 1 m/s. The time for deploying the CTD and transfering the samples to water bottles takes about 1 hour at each station. "
   ]
  },
  {
   "cell_type": "markdown",
   "metadata": {},
   "source": [
    "We'd like to emphasize the importance of staying within our designated three-week timeframe. If your cruise plan indicates that the journey would exceed this allotted time, we kindly request that you revise and adjust your route accordingly. \n",
    "\n",
    "$\\color{green}{\\text{Please write down your vector of coordinates:}}$\n",
    "\n",
    "$\\color{green}{\\text{Please write down the estimated duration of the cruise here:}}$\n",
    "\n",
    "$\\color{green}{\\text{Please specify the estimated time of arrival in and departure from our region of interest:}}$"
   ]
  },
  {
   "cell_type": "markdown",
   "metadata": {},
   "source": [
    "If you have thoroughly reviewed and are content with your research plan, the time has come to take action and prepare to board the R/V Ocean Explorer! Here's a step-by-step guide on how to prepare and pack your equipment in the office before transferring it to the ship:\n",
    "\n",
    "Step 1: Equipment Checklist\n",
    "\n",
    "Create a comprehensive checklist of all the equipment you'll need for your research. This includes scientific instruments, sampling tools, safety gear, and any other materials essential to your work. Ensure that everything is in working order, and make note of any items that may require special handling or storage.\n",
    "\n",
    "Step 2: Preparing the Equipment\n",
    "\n",
    "Clean and calibrate your instruments as needed. Ensure that sensors are functioning properly, batteries are charged, and any necessary software is updated. This step is crucial for the accuracy and success of your research at sea.\n",
    "\n",
    "Step 3: Organize and Label\n",
    "\n",
    "Organize your equipment in a systematic manner. Group items together based on their function or use. Clearly label each item with its name, purpose, and any specific instructions for handling or setup. \n",
    "\n",
    "Step 4: Container transfer\n",
    "\n",
    "Your equipment will be transfered to the ship in a 20 foot container. The container will be sent to Puntarenas, Costa Rica ahead of time with a cargo boat, so make sure you are packed in time for this transfer. Remember there are no shops at sea, so think carefully and plan ahead very well.\n",
    "\n",
    "![Equipment preparation NIOZ](https://www.nioz.nl/application/files/9116/7500/3457/2023-01-16-packing.jpg)\n",
    "![Equipment loading](https://www.nioz.nl/application/files/7416/7810/2265/2023-03-06-container-shifting.jpg)"
   ]
  },
  {
   "cell_type": "code",
   "execution_count": null,
   "metadata": {},
   "outputs": [],
   "source": [
    "# Run the following lines to send out the virtual ship\n",
    "from virtualship import VirtualShip\n",
    "VirtualShip.sailship(coords_input = coords)"
   ]
  },
  {
   "cell_type": "markdown",
   "metadata": {},
   "source": [
    "Please realize it will take some time to generate the data for your specific cruise. \n",
    "\n",
    "During this period, we encourage you to make the most of your time by familiarizing yourselves with historical CTD (Conductivity, Temperature, and Depth) output data. This preparation will equip you with valuable skills in reading, interpreting, and visualizing crucial oceanographic data. While waiting for our virtual cruise to finish, consider forming study groups or engaging in discussions with your peers. Share insights, ask questions, and collaborate on understanding the intricacies of historical CTD output. \n",
    "\n",
    "1. Data Structure: Explore the structure of the data. Understand the variables, units, and how the data is organized. Familiarize yourself with the columns and rows, as this knowledge will be instrumental when working with real-time data. The numpy package has a function loadtxt that you might want to utilize for this. You'll be able to read the columns into different variables in one go.\n",
    "\n",
    "2. Data Visualization: Practice visualizing the data. Utilize tools like graphs, charts, and maps to represent the variations in conductivity, temperature, and depth. This exercise will enhance your ability to interpret and communicate findings effectively. You might want to use the matplotlib.pyplot function with an inverted axis (e.g. ax1.invert_yaxis()) and shared y axis (ax2 = ax1.twiny()) for visualization.\n",
    "\n",
    "3. Quality Control: Learn about quality control procedures. Identify and understand potential anomalies or irregularities in the data. For example, take care to separate the upcast and the downcast. Samples are always taken on the upcast, so the downcast will have an undisturbed profile. \n",
    "\n",
    "4. Appropriate Sampling Depths: Check out the salinity sampling protocol on Blackboard and decide on 4 depths to sample using the Niskin bottles. \n"
   ]
  },
  {
   "cell_type": "markdown",
   "metadata": {},
   "source": [
    "$\\color{green}{\\text{Please generate a figure of Temperature and Salinity against depth in a new code cell below or above.}}$\n",
    "\n",
    "$\\color{green}{\\text{Please give 4 appropriate sampling depths:}}$\n",
    "\n",
    "![CTD rosette on the Pelagia ship](https://www.nioz.nl/application/files/3316/1124/8184/01-21-ctd-bob.jpg)"
   ]
  },
  {
   "cell_type": "markdown",
   "metadata": {},
   "source": []
  }
 ],
 "metadata": {
  "kernelspec": {
   "display_name": "parcels",
   "language": "python",
   "name": "python3"
  },
  "language_info": {
   "codemirror_mode": {
    "name": "ipython",
    "version": 3
   },
   "file_extension": ".py",
   "mimetype": "text/x-python",
   "name": "python",
   "nbconvert_exporter": "python",
   "pygments_lexer": "ipython3",
   "version": "3.11.5"
  }
 },
 "nbformat": 4,
 "nbformat_minor": 2
}
