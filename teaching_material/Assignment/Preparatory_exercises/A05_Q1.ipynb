{
 "cells": [
  {
   "cell_type": "markdown",
   "metadata": {},
   "source": [
    "### Assignment 5.1: thermal wind balance\n"
   ]
  },
  {
   "cell_type": "markdown",
   "metadata": {},
   "source": [
    "In this assignment you will analyze CTD measurements near Japan and calculate the vertical shear assuming thermal wind balance. "
   ]
  },
  {
   "cell_type": "code",
   "execution_count": null,
   "metadata": {},
   "outputs": [],
   "source": [
    "import xarray as xr\n",
    "import pandas as pd\n",
    "import numpy as np\n",
    "import matplotlib.pyplot as plt\n",
    "import gsw\n",
    "import cmocean"
   ]
  },
  {
   "cell_type": "markdown",
   "metadata": {},
   "source": [
    "First we will have to read the _csv_ files. Take a look at the comments and header of the first CTD dataset by running the following cell."
   ]
  },
  {
   "cell_type": "code",
   "execution_count": null,
   "metadata": {},
   "outputs": [],
   "source": [
    "header = pd.read_csv('Japan/CTD_Japan_station_1.csv', nrows=5,  header=None)\n",
    "header"
   ]
  },
  {
   "cell_type": "markdown",
   "metadata": {},
   "source": [
    "To load the data in _xarray's_ useful format, we first create a new dataset with empty data. The dimensions _trajectory_ and _obs_ represent the length of each measurement and the number of measurements, respectively."
   ]
  },
  {
   "cell_type": "code",
   "execution_count": null,
   "metadata": {},
   "outputs": [],
   "source": [
    "ctd = xr.Dataset(\n",
    "    data_vars={\n",
    "        'P':(('trajectory','obs'),np.zeros((399,5)),{'long_name':'pressure','units':'hPa'}),\n",
    "        'T':(('trajectory','obs'),np.zeros((399,5)),{'long_name':'temperature','units':'degC'}),\n",
    "        'S':(('trajectory','obs'),np.zeros((399,5)),{'long_name':'salinity','units':'g kg-1'}),\n",
    "    },\n",
    "    coords={\n",
    "        'trajectory':('trajectory',range(399)),\n",
    "        'obs':('obs',range(1,6)),\n",
    "        'lat':('obs',np.zeros((5)),{'long_name':'latitude','units':'degrees_north'}),\n",
    "        'lon':('obs',np.zeros((5)),{'long_name':'longitude','units':'degrees_east'}),\n",
    "        'start_time':('obs',np.zeros((5), dtype='<M8[ns]'),{'long_name':'start_time'}),\n",
    "        'end_time':('obs',np.zeros((5), dtype='<M8[ns]'),{'long_name':'end_time'}),\n",
    "    }\n",
    ")\n",
    "ctd"
   ]
  },
  {
   "cell_type": "markdown",
   "metadata": {},
   "source": [
    "__a)__ Fill the dataset with values from the csv files."
   ]
  },
  {
   "cell_type": "code",
   "execution_count": null,
   "metadata": {},
   "outputs": [],
   "source": []
  },
  {
   "cell_type": "markdown",
   "metadata": {},
   "source": [
    "__b)__ Integrate the hydrostatic balance equation to compute the depth z (negative everywhere) for all measurements. Use the TEOS10 approximation for density and add depth and density as variables to the dataset. Plot z for one of the CTD casts."
   ]
  },
  {
   "cell_type": "code",
   "execution_count": null,
   "metadata": {},
   "outputs": [],
   "source": []
  },
  {
   "cell_type": "markdown",
   "metadata": {},
   "source": [
    "As you can see, the CTD sinks and rises with a constant velocity.  \n",
    "\n",
    "__c)__ Select the data during ascent **and** interpolate to depth levels every five metres. For the latter you can use `xr.apply_ufunc`, offering a way to apply functions on a dataset that may modify one or more specific dimensions, like e.g. `np.interp`. You only have to fill in your code in the `interp_1d` function, that is being applied along the `trajectory` dimension. This function interpolates a one-dimensional array `fp`, from its (core) dimension `trajectory` to the new dimension `zlev`. If you want to learn more about `xr.apply_ufunc`, check out this [example](https://docs.xarray.dev/en/stable/examples/apply_ufunc_vectorize_1d.html), which is very related to this exercise."
   ]
  },
  {
   "cell_type": "code",
   "execution_count": null,
   "metadata": {},
   "outputs": [],
   "source": [
    "#ctd_up =  # upward portion of dataset\n",
    "\n",
    "def interp_1d(fp, xp, x):\n",
    "    \"\"\"interpolate fp(xp) to x\n",
    "\n",
    "    args:\n",
    "    fp : array(k)\n",
    "        variable to interpolate\n",
    "    xp : array(k)\n",
    "        coordinates of fp\n",
    "    x : array(k)\n",
    "        new coordinates of interpolated variable\n",
    "\n",
    "    returns:\n",
    "    array(k)\n",
    "        values of fp interpolated to x\n",
    "    \"\"\"\n",
    "    return"
   ]
  },
  {
   "cell_type": "code",
   "execution_count": null,
   "metadata": {},
   "outputs": [],
   "source": [
    "# you do not have to change this\n",
    "zlev = np.arange(-5,-2000,-10) # new depth levels\n",
    "ctd_interp = xr.apply_ufunc(\n",
    "    interp_1d, # function to apply along core dimension\n",
    "    ctd_up,    # arg1\n",
    "    ctd_up.z,  # arg2\n",
    "    zlev,      # arg3\n",
    "    input_core_dims=[['trajectory'],['trajectory'],['zlev']], # core dimension per arg\n",
    "    output_core_dims=[['zlev']],      # core dimension output\n",
    "    exclude_dims=set(['trajectory']), # input dimension that may disappear in output\n",
    "    vectorize=True,   # vectorizes args so interp_1d receives one-dimensional data\n",
    "    keep_attrs=True,  # keep array attributes\n",
    "    on_missing_core_dim='copy', # how to handle possibly missing core dims on input\n",
    ")\n",
    "ctd_interp = ctd_interp.drop_vars('z').assign_coords(\n",
    "    {'z':('zlev',zlev, ctd_interp.z.attrs)}) # set z as 1D coord\n",
    "ctd_interp"
   ]
  },
  {
   "cell_type": "markdown",
   "metadata": {},
   "source": [
    "__d)__ Plot vertical cross sections of temperature, salinity and density with longitude and depth on the x- and y-axis, respectively."
   ]
  },
  {
   "cell_type": "code",
   "execution_count": null,
   "metadata": {},
   "outputs": [],
   "source": [
    "\n"
   ]
  },
  {
   "cell_type": "markdown",
   "metadata": {},
   "source": [
    "__e)__ Calculate and plot the vertical shear of the meridional velocity, assuming the flow is in thermal wind balance."
   ]
  },
  {
   "cell_type": "code",
   "execution_count": null,
   "metadata": {},
   "outputs": [],
   "source": []
  }
 ],
 "metadata": {
  "kernelspec": {
   "display_name": "Python 3 (ipykernel)",
   "language": "python",
   "name": "python3"
  },
  "language_info": {
   "codemirror_mode": {
    "name": "ipython",
    "version": 3
   },
   "file_extension": ".py",
   "mimetype": "text/x-python",
   "name": "python",
   "nbconvert_exporter": "python",
   "pygments_lexer": "ipython3",
   "version": "3.12.1"
  }
 },
 "nbformat": 4,
 "nbformat_minor": 4
}
