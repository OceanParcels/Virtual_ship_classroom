{
 "cells": [
  {
   "cell_type": "markdown",
   "metadata": {},
   "source": [
    "### Assignment 6.1: Upwelling near Peru\n",
    "The ocean region near Peru is known for its upwelling, causing the rise of nutrient-rich bottom water to the surface and a subsequently flourishing ecosystem. Hence, it is an important region for wildlife and for the fishery industry. \n",
    "\n",
    "We explored this area with an ADCP device onboard the \"virtual ship\". It measured zonal and meridional velocities up to 500 metres depth. In this assignment you will process this data and interpret the results with your knowledge of wind-induced effects on ocean circulation."
   ]
  },
  {
   "cell_type": "code",
   "execution_count": null,
   "metadata": {},
   "outputs": [],
   "source": [
    "import xarray as xr\n",
    "import matplotlib.pyplot as plt\n",
    "import matplotlib.colors as mcolors\n",
    "import cartopy.crs as ccrs\n",
    "import cmocean\n",
    "import numpy as np\n",
    "from geopy import distance"
   ]
  },
  {
   "cell_type": "markdown",
   "metadata": {},
   "source": [
    "__a)__ Make a plot of the ship's trajectory. Check that it runs perpendicular to the coast of Peru."
   ]
  },
  {
   "cell_type": "code",
   "execution_count": null,
   "metadata": {},
   "outputs": [],
   "source": []
  },
  {
   "cell_type": "markdown",
   "metadata": {},
   "source": [
    "__b)__ Calculate the distance from each measurement to the coast and add it as variable to the dataset."
   ]
  },
  {
   "cell_type": "code",
   "execution_count": null,
   "metadata": {},
   "outputs": [],
   "source": []
  },
  {
   "cell_type": "markdown",
   "metadata": {},
   "source": [
    "__c)__ Calculate and plot the velocity components parallel and perpendicular to the coast."
   ]
  },
  {
   "cell_type": "code",
   "execution_count": null,
   "metadata": {},
   "outputs": [],
   "source": []
  },
  {
   "cell_type": "markdown",
   "metadata": {},
   "source": [
    "Assuming constant density and no velocity variations in the longshore direction, the continuity equation may be written \n",
    "$$\\frac{\\partial u_{cross}}{\\partial s} + \\frac{\\partial w}{\\partial z} = 0$$  \n",
    "where $u_{cross}$ is the cross-shore velocity, $s$ the shoreward distance, $w$ the vertical velocity and $z$ the depth (upward positive).  \n",
    "\n",
    "__d)__ Starting from the surface downward, integrate the continuity equation to find the vertical velocity. Explain what you see. "
   ]
  },
  {
   "cell_type": "code",
   "execution_count": null,
   "metadata": {},
   "outputs": [],
   "source": []
  }
 ],
 "metadata": {
  "kernelspec": {
   "display_name": "Python 3 (ipykernel)",
   "language": "python",
   "name": "python3"
  },
  "language_info": {
   "codemirror_mode": {
    "name": "ipython",
    "version": 3
   },
   "file_extension": ".py",
   "mimetype": "text/x-python",
   "name": "python",
   "nbconvert_exporter": "python",
   "pygments_lexer": "ipython3",
   "version": "3.12.1"
  }
 },
 "nbformat": 4,
 "nbformat_minor": 4
}
