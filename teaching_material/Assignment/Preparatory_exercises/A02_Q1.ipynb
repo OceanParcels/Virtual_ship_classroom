{
 "cells": [
  {
   "cell_type": "markdown",
   "id": "a30f51ea",
   "metadata": {},
   "source": [
    "### Assignment 2.1: Argo floats in the Tropical Atlantic\n",
    "\n",
    "In this assignment, you will simulate the temperature and salinity profiles of an Argo float using the Parcels toolbox.\n",
    "\n",
    "First, make sure you have the right environment activated and import the following packages."
   ]
  },
  {
   "cell_type": "code",
   "execution_count": null,
   "id": "cd00b0bc-2ca2-40ea-91ce-e0622a4edcc6",
   "metadata": {},
   "outputs": [],
   "source": [
    "from parcels import FieldSet, ParticleSet, JITParticle, Variable, AdvectionRK4, ScipyParticle, StatusCode\n",
    "import numpy as np\n",
    "import xarray as xr\n",
    "import matplotlib.pyplot as plt\n",
    "from datetime import timedelta\n",
    "import cmocean"
   ]
  },
  {
   "cell_type": "markdown",
   "id": "e0a1719f",
   "metadata": {},
   "source": [
    "For the Parcels simulation, you will need to download a NetCDF file with the hydrodynamic (velocities, temperature, salinity) data. We use data from the Copernicus Marine Environmental Monitoring Service (CMEMS) [Global Ocean 1/12° Physics Analysis and Forecast product](https://resources.marine.copernicus.eu/product-detail/GLOBAL_ANALYSIS_FORECAST_PHY_001_024/INFORMATION). For this assignment, we've compiled all the flow data you need into one file (~120MB), which you can find on Blackboard.\n",
    "\n",
    "Put that file into the directory that also holds this notebook and then execute the code below to create what's in Parcels called a `FieldSet` object"
   ]
  },
  {
   "cell_type": "code",
   "execution_count": null,
   "id": "50bbbadf",
   "metadata": {},
   "outputs": [],
   "source": [
    "filename = 'global-analysis-forecast-phy-001-024_1641284158025.nc'\n",
    "variables = {'U': 'uo', # dictionary with names of the variables in the netcdf file\n",
    "             'V': 'vo',\n",
    "             'S': 'so',\n",
    "             'T': 'thetao'}\n",
    "dimensions = {'lon': 'longitude', # dictionary with names of the dimensions in the netcdf file\n",
    "              'lat': 'latitude',\n",
    "              'depth': 'depth',\n",
    "              'time': 'time'}\n",
    "\n",
    "fieldset = FieldSet.from_netcdf(filename, variables, dimensions)\n",
    "fieldset.mindepth = fieldset.U.depth[0]  # uppermost layer in the hydrodynamic data"
   ]
  },
  {
   "cell_type": "markdown",
   "id": "b9874515",
   "metadata": {},
   "source": [
    "You can plot the two components of the flow field (at the surface) with the following code."
   ]
  },
  {
   "cell_type": "code",
   "execution_count": null,
   "id": "6811eb8f",
   "metadata": {},
   "outputs": [],
   "source": [
    "fieldset.computeTimeChunk() # first load the data in memory\n",
    "\n",
    "fig, ax = plt.subplots(1, 2, sharex=True, sharey=True)\n",
    "p0 = ax[0].pcolormesh(fieldset.U.lon, fieldset.U.lat, fieldset.U.data[0,0,:,:], vmin=-1.5, vmax=1.5, cmap=cmocean.cm.balance)\n",
    "p1 = ax[1].pcolormesh(fieldset.V.lon, fieldset.V.lat, fieldset.V.data[0,0,:,:], vmin=-1.5, vmax=1.5, cmap=cmocean.cm.balance)\n",
    "ax[0].set_title('zonal velocity')\n",
    "ax[1].set_title('meridional velocity')\n",
    "ax[0].set_ylabel('latitude [°N]')\n",
    "ax[0].set_xlabel('longitude [°E]')\n",
    "ax[1].set_xlabel('longitude [°E]')\n",
    "ax[1].yaxis.set_tick_params(left=False, right=True, labelleft=False, labelright=True)\n",
    "ax[0].grid()\n",
    "ax[1].grid()\n",
    "cb = fig.colorbar(p1, ax=ax, orientation='horizontal')\n",
    "cb.set_label('[m/s]')\n",
    "gd = fieldset.U.grid\n",
    "fig.suptitle(f\"velocity at depth {gd.depth[0]:.2f} m, {gd.timeslices[0][0].astype('datetime64[m]')}\")\n",
    "plt.show()\n",
    "\n",
    "print(f\"The dimensions of the data are:\\nlon: {gd.xdim}\\nlat: {gd.ydim}\\ndepth: {gd.zdim}\\ntime: {len(gd.time_full)} ({gd.tdim} loaded)\")"
   ]
  },
  {
   "cell_type": "markdown",
   "id": "713f3bcb-dc11-411f-8bb4-499977e2863a",
   "metadata": {},
   "source": [
    "Parcels uses the oceanic data in `fieldset` to represent the environment of a 'particle'. Particles are objects that by default hold information on there position and time. The behaviour of particles is determined by a kernel. A commonly used kernel is `AdvectionRK4`, which prescribes advection using a 4th order Runge-Kutta numerical scheme. The `fieldset` data is interpolated to the particle position and time, then the particle gets advected to determine velocities at the new position. This process is repeated three times in a clever way to minimize the numerical error."
   ]
  },
  {
   "cell_type": "markdown",
   "id": "11edb95b",
   "metadata": {},
   "source": [
    "A few years ago, [Mike Hart-Davis](https://www.dgfi.tum.de/en/staff/hart-davis-michael/) wrote a `Kernel` for Parcels to easily simulate the behaviour of an Argo float. That code, which is also available in [this notebook tutorial](https://docs.oceanparcels.org/en/latest/examples/tutorial_Argofloats.html), is copied in the cell below. Go through it and make sure you understand what it does. For practical purposes, you may assume `particle.depth` and `particle_ddepth` both represent the particle depth.\n"
   ]
  },
  {
   "cell_type": "code",
   "execution_count": null,
   "id": "0c28d2c0",
   "metadata": {},
   "outputs": [],
   "source": [
    "# Define the new Kernel that mimics Argo vertical movement\n",
    "def ArgoVerticalMovement(particle, fieldset, time):\n",
    "    driftdepth = 1000  # maximum depth in m\n",
    "    maxdepth = 2000  # maximum depth in m\n",
    "    vertical_speed = 0.10  # sink and rise speed in m/s\n",
    "    cycletime = 10 * 86400  # total time of cycle in seconds\n",
    "    drifttime = 9 * 86400  # time of deep drift in seconds\n",
    "\n",
    "    if particle.cycle_phase == 0:\n",
    "        # Phase 0: Sinking with vertical_speed until depth is driftdepth\n",
    "        particle_ddepth += vertical_speed * particle.dt\n",
    "        if particle.depth >= driftdepth:\n",
    "            particle.cycle_phase = 1\n",
    "\n",
    "    elif particle.cycle_phase == 1:\n",
    "        # Phase 1: Drifting at depth for drifttime seconds\n",
    "        particle.drift_age += particle.dt\n",
    "        if particle.drift_age >= drifttime:\n",
    "            particle.drift_age = 0  # reset drift_age for next cycle\n",
    "            particle.cycle_phase = 2\n",
    "\n",
    "    elif particle.cycle_phase == 2:\n",
    "        # Phase 2: Sinking further to maxdepth\n",
    "        particle_ddepth += vertical_speed * particle.dt\n",
    "        if particle.depth >= maxdepth:\n",
    "            particle.cycle_phase = 3\n",
    "\n",
    "    elif particle.cycle_phase == 3:\n",
    "        # Phase 3: Rising with vertical_speed until at surface\n",
    "        particle_ddepth -= vertical_speed * particle.dt\n",
    "        particle.cycle_age += particle.dt # solve issue of not updating cycle_age during ascent\n",
    "        if particle.depth <= fieldset.mindepth:\n",
    "            particle.depth = fieldset.mindepth\n",
    "            particle.temp = math.nan  # reset temperature to NaN at end of sampling cycle\n",
    "            particle.salt = math.nan  # idem\n",
    "            particle.cycle_phase = 4\n",
    "        else:\n",
    "            particle.temp = fieldset.T[time, particle.depth, particle.lat, particle.lon]\n",
    "            particle.salt = fieldset.S[time, particle.depth, particle.lat, particle.lon]\n",
    "\n",
    "    elif particle.cycle_phase == 4:\n",
    "        # Phase 4: Transmitting at surface until cycletime is reached\n",
    "        if particle.cycle_age > cycletime:\n",
    "            particle.cycle_phase = 0\n",
    "            particle.cycle_age = 0\n",
    "\n",
    "    if particle.state == StatusCode.Evaluate:\n",
    "        particle.cycle_age += particle.dt  # update cycle_age\n",
    "\n",
    "\n",
    "def KeepAtSurface(particle, fieldset, time):\n",
    "    # Prevent error when float reaches surface\n",
    "    if particle.state == StatusCode.ErrorThroughSurface:\n",
    "        particle.depth = fieldset.mindepth\n",
    "        particle.state = StatusCode.Success"
   ]
  },
  {
   "cell_type": "markdown",
   "id": "b72574d3",
   "metadata": {},
   "source": [
    "Before we can run this code, we also need to define a new Particle class, that has extra Variables like `cycle_phase`, `cycle_age` etc needed by the `ArgoVerticalMovement()` Kernel.  \n",
    "*Note that if you get a compiler error here, you could try to swap the `JITParticle` in the `ArgoParticle` class definition for `ScipyParticle`.*"
   ]
  },
  {
   "cell_type": "code",
   "execution_count": null,
   "id": "cf19fadf",
   "metadata": {},
   "outputs": [],
   "source": [
    "variables = [\n",
    "    Variable('cycle_phase', dtype=np.int32, initial=0.0),\n",
    "    Variable('cycle_age', dtype=np.float32, initial=0.0),\n",
    "    Variable('drift_age', dtype=np.float32, initial=0.0),\n",
    "    Variable('temp', dtype=np.float32, initial=np.nan),\n",
    "    Variable('salt', dtype=np.float32, initial=np.nan),\n",
    "]\n",
    "ArgoParticle = JITParticle.add_variables(variables)"
   ]
  },
  {
   "cell_type": "markdown",
   "id": "ba34b258",
   "metadata": {},
   "source": [
    "Now we can create a `ParticleSet`, which in this case consists of one `ArgoParticle`. We have to specify its initial position and time. Note that you could add any number of Argo floats here, all having different starting positions. We will simply use one float, however."
   ]
  },
  {
   "cell_type": "code",
   "execution_count": null,
   "id": "7f539807",
   "metadata": {},
   "outputs": [],
   "source": [
    "argoset = ParticleSet(\n",
    "    fieldset=fieldset, pclass=ArgoParticle, lon=[-37.09499], lat=[6.73472],\n",
    "    depth=fieldset.mindepth, time=np.datetime64('2019-07-25T11:14:00')\n",
    ")"
   ]
  },
  {
   "cell_type": "markdown",
   "id": "316e2277",
   "metadata": {},
   "source": [
    "If we then combine the `ArgoVerticalMovement()` kernel with the built-in `AdvectionRK4()` (for the horizontal movement) and the `KeepAtSurface()` (for ending the ascent), we can compute the trajectory again. This may take a while.  \n",
    "*Note that `particle_ddepth` is a copy of `particle.depth` inside `ArgoVerticalMovement()`. On every time step, `particle.depth` is kept constant until all kernels have been executed. Only then are the depth changes in every kernel, `particle_ddepth - paricle.depth`, summed together to find the new depth. Therefore, the outcome does not depend on the ordering of the kernels.*"
   ]
  },
  {
   "cell_type": "code",
   "execution_count": null,
   "id": "32ade18d",
   "metadata": {},
   "outputs": [],
   "source": [
    "argoset.execute(\n",
    "    [ArgoVerticalMovement, AdvectionRK4, KeepAtSurface],  # list of kernels to be executed\n",
    "    runtime=timedelta(days=31),\n",
    "    dt=timedelta(minutes=5),\n",
    "    output_file=argoset.ParticleFile(name=\"argo_float\", outputdt=timedelta(minutes=5), chunks=(1,500)),\n",
    ")"
   ]
  },
  {
   "cell_type": "markdown",
   "id": "6a954472",
   "metadata": {},
   "source": [
    "You can open the dataset and view the Argo trajectory with the code provided by Mike in his tutorial"
   ]
  },
  {
   "cell_type": "code",
   "execution_count": null,
   "id": "7ddb39e5",
   "metadata": {},
   "outputs": [],
   "source": [
    "ds_argo = xr.open_zarr('argo_float.zarr')\n",
    "\n",
    "x = ds_argo[\"lon\"][:].squeeze()\n",
    "y = ds_argo[\"lat\"][:].squeeze()\n",
    "z = ds_argo[\"z\"][:].squeeze()\n",
    "\n",
    "fig = plt.figure(figsize=(13,10))\n",
    "ax = plt.axes(projection='3d')\n",
    "ax.invert_zaxis()\n",
    "p = ax.scatter(x,y,z, c=z, s=20, marker=\"o\", cmap='viridis_r', depthshade=False)\n",
    "cb = plt.colorbar(p, shrink=0.5)\n",
    "cb.ax.invert_yaxis()\n",
    "cb.set_label('depth [m]')"
   ]
  },
  {
   "cell_type": "markdown",
   "id": "01e2b7ae-5b3f-4a16-8721-9c4ad3fc79a8",
   "metadata": {},
   "source": [
    "Without changing the sink velocity, make the ascent twice as slow. Store your data in a different file. Make sure to define the `argoset` again, because by default the simulation will otherwise continue where the previous run ended.  \n",
    "Then, plot depth as a function of time for both the regular and slowly-ascending floats to check if your code works. To speed up the simulation you can set the `outputdt` to 30 minutes."
   ]
  },
  {
   "cell_type": "code",
   "execution_count": null,
   "id": "f6c0e5f3-e70f-4d7e-92ae-8ddf884d106b",
   "metadata": {},
   "outputs": [],
   "source": [
    "  "
   ]
  },
  {
   "cell_type": "markdown",
   "id": "f0af03db-2d7b-4086-bd93-e6724b58aa8d",
   "metadata": {},
   "source": [
    "Make plots of the vertical temperature and salinity profile, which were recorded during the ascents to the surface. You only have to show the regular argo float data."
   ]
  },
  {
   "cell_type": "code",
   "execution_count": null,
   "id": "913e27fb-2f82-45c7-af1f-d33b82ba1d63",
   "metadata": {},
   "outputs": [],
   "source": []
  },
  {
   "cell_type": "markdown",
   "id": "8caa88f6-730f-442e-871c-65b2e5c94b35",
   "metadata": {},
   "source": [
    "Now present vertical profiles of temperature and salinity for a float that is not advected horizontally but only moves vertically in a similar fashion and compare to the results for the regular float. Let the horizontal position of this float equal that of the regular float when it first ascends and make sure the run duration and output time step are similar. Is the difference due to horizontal advection significant during the first ascend? And the second, third?"
   ]
  },
  {
   "cell_type": "code",
   "execution_count": null,
   "id": "57fe4989-e926-467d-8a40-aa09d5fea82b",
   "metadata": {},
   "outputs": [],
   "source": []
  }
 ],
 "metadata": {
  "kernelspec": {
   "display_name": "Python 3 (ipykernel)",
   "language": "python",
   "name": "python3"
  },
  "language_info": {
   "codemirror_mode": {
    "name": "ipython",
    "version": 3
   },
   "file_extension": ".py",
   "mimetype": "text/x-python",
   "name": "python",
   "nbconvert_exporter": "python",
   "pygments_lexer": "ipython3",
   "version": "3.12.1"
  }
 },
 "nbformat": 4,
 "nbformat_minor": 5
}
