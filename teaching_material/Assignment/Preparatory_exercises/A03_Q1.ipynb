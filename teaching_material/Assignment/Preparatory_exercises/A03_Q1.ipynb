{
 "cells": [
  {
   "cell_type": "markdown",
   "metadata": {},
   "source": [
    "### Assignment 3.1: Computing densities\n",
    "\n",
    "In this assignment, you will compute densities from local temperatures and salinities. \n",
    "\n",
    "For this, you will need to install the `gsw` package. Assuming you have installed python via anaconda, you can open the anaconda prompt or terminal and type `conda install -n dyoc -c conda-forge gsw`. Then, restart jupyter and import the following packages."
   ]
  },
  {
   "cell_type": "code",
   "execution_count": null,
   "metadata": {},
   "outputs": [],
   "source": [
    "import glob\n",
    "import gsw\n",
    "import warnings\n",
    "import xarray as xr\n",
    "import cftime\n",
    "import numpy as np\n",
    "import matplotlib.pyplot as plt\n",
    "import cartopy.crs as ccrs\n",
    "import cartopy.feature as cfeature\n",
    "import cmocean"
   ]
  },
  {
   "cell_type": "markdown",
   "metadata": {},
   "source": [
    "The data you will be working with was collected on a [cruise with the RRS Discovery](https://www.bodc.ac.uk/data/documents/cruise/8198/) in the Strait of Gibraltar from the 4<sup>th</sup> to 21<sup>st</sup> of April, 1998. The objectives of these cruise were to a) carry out mooring operations, b) study non-linear processes due to strong currents and c) measure biogeochemichal fluxes associated with the upper layer inflow of Atlantic water and the lower layer outflow of Mediterranean water through the Strait.  \n",
    "\n",
    "Along the cruise trajectory, [27 CTD measurements](https://data-search.nerc.ac.uk/geonetwork/srv/api/records/e7b1b5dadc5a52d18078b9c26f9e08a8) have been taken, sampling temperature, salinity and oxygen levels. The post-processed data is available to you in the folder _RN-9598_1707497532516_, as well as additional reports. You can load the data and plot the trajectory by running the following two cells."
   ]
  },
  {
   "cell_type": "code",
   "execution_count": null,
   "metadata": {},
   "outputs": [],
   "source": [
    "datadir = './'  # change to your directory\n",
    "\n",
    "# open datasets and sort by time of ctd cast\n",
    "def decode_time(ds): # needed due to non CF-compliant units\n",
    "    with warnings.catch_warnings(action='ignore', category=cftime.CFWarning):\n",
    "        ds['TIME'] = cftime.num2date(ds.TIME, ds.TIME.units)\n",
    "    return ds\n",
    "\n",
    "files = glob.glob(f\"{datadir}RN-9598_1707497532516/b051*.nc\")\n",
    "data = [decode_time(xr.open_dataset(f, decode_times=False)) for f in files]\n",
    "data = [data[i] for i in np.argsort([ds.TIME.item() for ds in data])]\n",
    "print(f\"Loaded {len(data)} profiles\")"
   ]
  },
  {
   "cell_type": "code",
   "execution_count": null,
   "metadata": {},
   "outputs": [],
   "source": [
    "bathy = xr.open_dataset(f\"{datadir}bathymetry.nc\")\n",
    "fig = plt.figure(figsize=(10,8))\n",
    "ax = plt.axes(projection=ccrs.PlateCarree())\n",
    "tp = ax.pcolormesh(bathy.longitude, bathy.latitude, bathy.elevation, cmap='ocean', vmin=-1100,vmax=100, transform=ccrs.PlateCarree())\n",
    "ax.add_feature(cfeature.COASTLINE.with_scale('10m'))\n",
    "ax.add_feature(cfeature.LAND.with_scale('10m'))\n",
    "ax.gridlines(draw_labels=['left','bottom'], zorder=0)\n",
    "ax.plot([ds.LONGITUDE for ds in data], [ds.LATITUDE for ds in data], '-o',\n",
    "        transform=ccrs.PlateCarree(), c='lime')\n",
    "ax.scatter(data[0].LONGITUDE, data[0].LATITUDE,c='lime', marker='*', s=150, zorder=2,\n",
    "           transform=ccrs.PlateCarree(), edgecolors='k', linewidths=.5, label='start cruise D232')\n",
    "ax.set_title('CTD cast locations')\n",
    "ax.legend(loc='upper center')\n",
    "ax.set_extent([-6.05,-5.05,35.75,36.25])\n",
    "cb = fig.colorbar(tp, ax=ax, shrink=.5)\n",
    "cb.ax.set_ylim([-1100,0])\n",
    "cb.set_label('sea depth [m]')\n",
    "_=ax.text(-5.31,35.76,bathy.infoUrl, c='w', fontsize=8)"
   ]
  },
  {
   "cell_type": "markdown",
   "metadata": {},
   "source": [
    "In the next assignment, you will analyze the output of CTD cast 517846, taken in the Eastern Mediterranean. First inspect the available data by running the following cell."
   ]
  },
  {
   "cell_type": "code",
   "execution_count": null,
   "metadata": {},
   "outputs": [],
   "source": [
    "data[6]"
   ]
  },
  {
   "cell_type": "markdown",
   "metadata": {},
   "source": [
    "**a)** Write a python programme to plot the density profile of cast 517846 and check whether density increases with depth if a linear equation of state for temperature and salinity is taken. Use:\n",
    "$$\n",
    "\\rho = \\rho_0 \\left(1-\\alpha_T\\left(T-T_0\\right)+\\beta_S\\left(S-S_0\\right)\\right)\n",
    "$$\n",
    "with a reference density $\\rho_0 = 1027$ kg m $^{−3}$, thermic expansion coefficient $\\alpha_T = 1.0\\cdot10^{−4}$ K $^{−1}$, and haline expansion coefficient $\\beta_S = 7.0\\cdot10^{−4}$. $ T_0 $ and $ S_0 $ are the temperature and salinity closest to the surface respectively."
   ]
  },
  {
   "cell_type": "code",
   "execution_count": null,
   "metadata": {},
   "outputs": [],
   "source": []
  },
  {
   "cell_type": "markdown",
   "metadata": {},
   "source": [
    "**b)** Is the water column stable? Explain."
   ]
  },
  {
   "cell_type": "markdown",
   "metadata": {},
   "source": [
    "(Answer) Despite the density decreasing with depth below 400m, the water column is not unstable. The formula used to calculate density in part (a) does not include the effect of compressibility of water. In the upper levels of the ocean the effect of pressure is small and the formula is valid, but in the deeper layers it is no longer negligible."
   ]
  },
  {
   "cell_type": "markdown",
   "metadata": {},
   "source": [
    "**c)** As discussed in the lecture, the TEOS10 equations provide more accurate Equations of State. Use the `gsw.conversions.z_from_p()` function to convert the measurement pressures to depths (using the `ds.LATITUDE` value for latitude) and the `gsw.conversions.CT_from_t()` function to convert the in-situ temperature to Conservative Temperature. Then, use the `gsw.density.rho()` function to compute the in-situ density. Use the `help()` function for instructions how to use these functions."
   ]
  },
  {
   "cell_type": "code",
   "execution_count": null,
   "metadata": {},
   "outputs": [],
   "source": []
  },
  {
   "cell_type": "markdown",
   "metadata": {},
   "source": [
    "**d)** How do the Conservative Temperatures differ from the in-situ temperatures? And how does the density computed form the `gsw` package differ from the density in the equation at a)?"
   ]
  },
  {
   "cell_type": "code",
   "execution_count": null,
   "metadata": {},
   "outputs": [],
   "source": []
  },
  {
   "cell_type": "markdown",
   "metadata": {},
   "source": [
    "The ship made two long sections on the Eastern and Western side of the Strait to measure the biogeochemical fluxes. The cell below shows the track on the Western side."
   ]
  },
  {
   "cell_type": "code",
   "execution_count": null,
   "metadata": {},
   "outputs": [],
   "source": [
    "# select western passage and sort by latitude\n",
    "data_west = [ds for ds in data if ds.LONGITUDE<-5.7]\n",
    "time = [(ds.TIME.item() - data[0].TIME.item()).total_seconds()/86400 for ds in data_west]\n",
    "\n",
    "# plot\n",
    "fig = plt.figure()\n",
    "ax = fig.add_subplot(121, projection=ccrs.PlateCarree())\n",
    "ax.plot([ds.LONGITUDE for ds in data_west], [ds.LATITUDE for ds in data_west], 'k-o',\n",
    "        lw=1, ms=4, transform=ccrs.PlateCarree())\n",
    "ax.coastlines()\n",
    "ax.gridlines(draw_labels=['left','bottom'], zorder=0)\n",
    "ax.set_title('track')\n",
    "ax.set_ylabel('latitude')\n",
    "ax.set_ylim([35.78,36.099])\n",
    "\n",
    "ax2 = fig.add_subplot(122, sharey=ax)\n",
    "ax2.plot(time, [ds.LATITUDE.item() for ds in data_west], 'k-o', lw=1, ms=4)\n",
    "ax2.yaxis.label_position = 'right'\n",
    "ax2.yaxis.set_tick_params(left=False, labelleft=False, right=True, labelright=True)\n",
    "ax2.yaxis.set_ticks(ax.get_yticks())\n",
    "ax2.set_yticklabels([t.get_text() for t in ax.get_yticklabels()])\n",
    "ax2.grid()\n",
    "ax2.set_title('latitude')\n",
    "ax2.set_xlabel('days since start cruise')\n",
    "ax2.set_ylim([35.78,36.099])\n",
    "\n",
    "fig.suptitle(\"Western section\")\n",
    "fig.tight_layout()"
   ]
  },
  {
   "cell_type": "markdown",
   "metadata": {},
   "source": [
    "Apparently the ship did not take the shortest route across the strait. According to the cruise report, the section was split in two parts to give the chemists more time to analyze sample of water in between. However, when they did the second part, three out of seven locations were occupied by fishing boats that they had to steer away from. One data series could still be retrieved the same day, the other two locations were still occupied forcing the crew to do other things and wait. Though there is no need to read the lengthy cruise report yourself, the document is found [here](https://www.bodc.ac.uk/resources/inventories/cruise_inventory/reports/d232.pdf).\n",
    "\n",
    "Luckily, you do not have to wait for your data today. The following function reads a list of available CTD profiles and combines them into a single array per variable (setting values outside the measured depth interval to NaN). Make sure you understand what it does and plot a 'cross section' (data is projected along the latitude dimension) of temperature and salinity across the Western part of the Strait.  \n",
    "_Hint: use `plt.pcolormesh()`, which has the option to use linearly interpolated shading._"
   ]
  },
  {
   "cell_type": "code",
   "execution_count": null,
   "metadata": {},
   "outputs": [],
   "source": [
    "def crosssection(data, xdim='LATITUDE'):\n",
    "    \"\"\"convert data for 'cross section' plot (actually projection along x-axis)\n",
    "\n",
    "    data : list of DataArray\n",
    "        list of CTD cast datasets\n",
    "    xdim : str\n",
    "        horizontal coordinate in output\n",
    "\n",
    "    x : 1D horizontal coordinate\n",
    "    y : 1D vertical coordate (pressure)\n",
    "    temp : output temperature (y,x)\n",
    "    salt : output salinity (y,x)\n",
    "    \"\"\"\n",
    "    data = [ds.squeeze() for ds in data]\n",
    "    data = [data[i] for i in np.argsort([ds[xdim] for ds in data])] # sort by xdim\n",
    "    x = np.array([ds[xdim].item() for ds in data])\n",
    "    PMAX = np.max([ds.PRES.max() for ds in data]) # max pressure measured\n",
    "    y = np.arange(1,PMAX+1,2)\n",
    "    # below: one-line function taking in dataset and returning variable interpolated to pressures y\n",
    "    vinterp = lambda ds, var: np.interp(y, ds.PRES, ds[var], left=np.nan, right=np.nan)\n",
    "    temp = np.array([vinterp(ds, 'TEMPST01') for ds in data]).T\n",
    "    salt = np.array([vinterp(ds, 'PSALPR01') for ds in data]).T\n",
    "    return x,y,temp,salt"
   ]
  },
  {
   "cell_type": "code",
   "execution_count": null,
   "metadata": {},
   "outputs": [],
   "source": []
  },
  {
   "cell_type": "markdown",
   "metadata": {},
   "source": [
    "Now repeat for the Eastern section (longitude > -5.33). Do you see a pattern corresponding to the exchange of water between the Atlantic Ocean and Mediterranean Sea?"
   ]
  },
  {
   "cell_type": "code",
   "execution_count": null,
   "metadata": {},
   "outputs": [],
   "source": []
  },
  {
   "cell_type": "markdown",
   "metadata": {},
   "source": [
    "The following cell makes a T,S diagram for the linearized equation of state. Add a scatter plot of the density computed from the CTD measurements in the Eastern section and compare your results."
   ]
  },
  {
   "cell_type": "code",
   "execution_count": null,
   "metadata": {},
   "outputs": [],
   "source": [
    "lat,p,temp,salt = crosssection(data_east)\n",
    "\n",
    "# calculating linearized density RHO\n",
    "f = 0.005 # add margin around measurements\n",
    "T = np.linspace(np.nanmin(temp)*(1-f), np.nanmax(temp)*(1+f), len(p))\n",
    "S = np.linspace(np.nanmin(salt)*(1-f), np.nanmax(salt)*(1+f), len(p))\n",
    "RHO = rho0 * (1- alpha * (T-T[0])[:,None] + beta * (S-S[0])[None,:])\n",
    "\n",
    "# plotting\n",
    "fig, ax = plt.subplots(1, 1, figsize=(10, 5))\n",
    "CS = ax.contour(S, T, RHO, colors='k', levels=np.arange(1025,1030,0.5))\n",
    "ax.clabel(CS, inline=1, fontsize=10, fmt='%.1f')\n",
    "ax.set_xlabel('salinity [psu]')\n",
    "ax.set_ylabel('temperature [°C]')\n",
    "ax.grid()\n",
    "ax.set_title('Eastern section')\n",
    "\n",
    "# add your scatter plot here\n"
   ]
  },
  {
   "cell_type": "markdown",
   "metadata": {},
   "source": [
    "Answer: the colors confirm (again) that the linearized equations are a good approximation near the surface only."
   ]
  },
  {
   "cell_type": "markdown",
   "metadata": {},
   "source": [
    "Repeat the above plot for the Western section and compare both sections. Explain what you see."
   ]
  },
  {
   "cell_type": "code",
   "execution_count": null,
   "metadata": {},
   "outputs": [],
   "source": []
  }
 ],
 "metadata": {
  "kernelspec": {
   "display_name": "Python 3 (ipykernel)",
   "language": "python",
   "name": "python3"
  },
  "language_info": {
   "codemirror_mode": {
    "name": "ipython",
    "version": 3
   },
   "file_extension": ".py",
   "mimetype": "text/x-python",
   "name": "python",
   "nbconvert_exporter": "python",
   "pygments_lexer": "ipython3",
   "version": "3.12.1"
  }
 },
 "nbformat": 4,
 "nbformat_minor": 4
}
