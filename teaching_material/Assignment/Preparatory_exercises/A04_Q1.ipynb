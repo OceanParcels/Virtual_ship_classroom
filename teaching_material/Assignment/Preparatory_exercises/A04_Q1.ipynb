{
 "cells": [
  {
   "cell_type": "markdown",
   "metadata": {},
   "source": [
    "### Assignment 4.1 Analysing stratification\n",
    "\n",
    "***Note that it is always important in (Climate) Physics to properly label axes (including units) and add titles and legend where relevant to your plots!***\n",
    "In this tutorial, we will be using the [NCEP Global Ocean Data Assimilation System (GODAS) datasets](https://psl.noaa.gov/data/gridded/data.godas.html) to analyze the properties of stratified waters ourselves. GODAS is a global analysis and reanalysis ocean dataset covering the period from 1980 till now (updated monthly).  \n",
    "\n",
    "Download the year 2020 monthly mean ['potential temperature'](https://psl.noaa.gov/cgi-bin/db_search/DBListFiles.pl?did=98&tid=83478&vid=1913) and ['salinity'](https://psl.noaa.gov/cgi-bin/db_search/DBListFiles.pl?did=98&tid=83478&vid=1914) from the GODAS website at https://psl.noaa.gov/data/gridded/data.godas.html (click the 'Number of files' icon to expand, search the 2020 file and hit the download button). "
   ]
  },
  {
   "cell_type": "code",
   "execution_count": null,
   "metadata": {},
   "outputs": [],
   "source": [
    "import gsw\n",
    "import numpy as np\n",
    "import xarray as xr\n",
    "import cmocean\n",
    "import matplotlib.pyplot as plt\n",
    "import cartopy.crs as ccrs\n",
    "import cartopy.feature as cfeature"
   ]
  },
  {
   "cell_type": "markdown",
   "metadata": {},
   "source": [
    "Now open the the temperature and salinity files for 2020 (where of course `datadir` should point to the directory where you saved the GODAS data)"
   ]
  },
  {
   "cell_type": "code",
   "execution_count": null,
   "metadata": {},
   "outputs": [],
   "source": [
    "datadir ='./' # ./ is current working directory\n",
    "T = xr.open_dataset(datadir+'pottmp.2020.nc')\n",
    "S = xr.open_dataset(datadir+'salt.2020.nc')"
   ]
  },
  {
   "cell_type": "markdown",
   "metadata": {},
   "source": [
    "### Assignment\n",
    "\n",
    "**a)** Create figure by writing code that plots four panels showing potential temperature, salinity, potential density ($\\sigma_0$), and buoyancy frequency (or period) along a latitudinal section at the 30W and along a longitudinal section on the equator. What structures do you see?\n",
    "\n",
    "Some hints:\n",
    "- You can either write your own function for buoyancy period, or use `gsw.stability.NSquared`. \n",
    "- To create an array of pressure with the same size as salinity and temperature, use\n",
    "```\n",
    "p = gsw.p_from_z(-T.level, 0)\n",
    "p_arr = p.expand_dims(dim={'time':T.time, 'lat':T.lat, 'lon':T.lon}, axis=[0,2,3])\n",
    "```\n",
    "- To account for the fact that $N^2$ are defined at the pressure midpoints, use \n",
    "```\n",
    "level = (T.level+T.level.shift(level=1)).dropna('level')/2\n",
    "```"
   ]
  },
  {
   "cell_type": "code",
   "execution_count": null,
   "metadata": {},
   "outputs": [],
   "source": []
  },
  {
   "cell_type": "markdown",
   "metadata": {},
   "source": [
    "**b)** Investigate the Mixed Layer Depth. A common way (e.g. in the Climatological Atlas of the World Ocean by Levitus, 1982) to define this thickness is as the depth at which the potential density becomes larger than the surface density plus 0.125 kg/m^3.\n",
    "\n",
    "Plot a global map of the mixed layer depth for the 2020 annual average, for January 2020, and for July 2020. What differences do you see?"
   ]
  },
  {
   "cell_type": "code",
   "execution_count": null,
   "metadata": {},
   "outputs": [],
   "source": []
  }
 ],
 "metadata": {
  "kernelspec": {
   "display_name": "Python 3 (ipykernel)",
   "language": "python",
   "name": "python3"
  },
  "language_info": {
   "codemirror_mode": {
    "name": "ipython",
    "version": 3
   },
   "file_extension": ".py",
   "mimetype": "text/x-python",
   "name": "python",
   "nbconvert_exporter": "python",
   "pygments_lexer": "ipython3",
   "version": "3.12.1"
  }
 },
 "nbformat": 4,
 "nbformat_minor": 4
}
